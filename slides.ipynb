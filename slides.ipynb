{
 "cells": [
  {
   "cell_type": "markdown",
   "metadata": {
    "slideshow": {
     "slide_type": "slide"
    }
   },
   "source": [
    "# Pandas Flavor\n",
    "\n",
    "## The easy way to write your own \"flavor\" of Pandas.\n",
    "\n",
    "Zach Sailer"
   ]
  },
  {
   "cell_type": "markdown",
   "metadata": {
    "slideshow": {
     "slide_type": "slide"
    }
   },
   "source": [
    "## About me\n",
    "\n",
    "* B.S. in Physics at Cal Poly\n",
    "* Ph.D. in Evolutionary Biophysics Lab at University of Oregon\n",
    "* Open-source software contributor since 2012 (Jupyter, IPython, SciPy, Numpy, Altair, "
   ]
  },
  {
   "cell_type": "markdown",
   "metadata": {
    "slideshow": {
     "slide_type": "slide"
    }
   },
   "source": [
    "## Here's a little teaser...\n",
    "\n",
    "Pandas-flavor is a backward-compatible extension API for Pandas."
   ]
  },
  {
   "cell_type": "code",
   "execution_count": null,
   "metadata": {
    "slideshow": {
     "slide_type": "slide"
    }
   },
   "outputs": [],
   "source": [
    "import pandas as pd\n",
    "\n",
    "df = pd.read_csv('data/dirty-data.csv')\n",
    "df.head()"
   ]
  },
  {
   "cell_type": "code",
   "execution_count": null,
   "metadata": {
    "slideshow": {
     "slide_type": "subslide"
    }
   },
   "outputs": [],
   "source": [
    "import re\n",
    "\n",
    "def clean_names(df, case_type='lower'):\n",
    "    \"\"\"Function for cleaning column names in a pandas DataFrame.\n",
    "    \"\"\"\n",
    "    \n",
    "    def _change_case(col, case_type):\n",
    "        \"\"\"Change case of a column name.\"\"\"\n",
    "        if case_type.lower() == \"upper\":\n",
    "            col = col.upper()\n",
    "        elif case_type.lower() == \"lower\":\n",
    "            col = col.lower()\n",
    "        return col\n",
    "\n",
    "    def _normalize(col_name):\n",
    "        \"\"\"Normalize common special characters.\"\"\"\n",
    "        result = col_name\n",
    "        for search, replace in [(r\"[ /:,?()\\.-]\", \"_\"), (r\"['’]\", \"\")]:\n",
    "            result = re.sub(search, replace, result)\n",
    "        return result\n",
    "\n",
    "    # Should the columns be upper or lower case?\n",
    "    df = df.rename(columns=lambda x: _change_case(x, case_type))\n",
    "\n",
    "    # Normalize common special characters.\n",
    "    df = df.rename(columns=_normalize)\n",
    "\n",
    "    # Only use single underscores.\n",
    "    df = df.rename(columns=lambda x: re.sub(\"_+\", \"_\", x))\n",
    "    \n",
    "    return df"
   ]
  },
  {
   "cell_type": "code",
   "execution_count": null,
   "metadata": {
    "slideshow": {
     "slide_type": "subslide"
    }
   },
   "outputs": [],
   "source": [
    "df = clean_names(df, case_type='lower')\n",
    "df.head()"
   ]
  },
  {
   "cell_type": "markdown",
   "metadata": {
    "slideshow": {
     "slide_type": "slide"
    }
   },
   "source": [
    "## The pandas flavor way"
   ]
  },
  {
   "cell_type": "code",
   "execution_count": null,
   "metadata": {
    "slideshow": {
     "slide_type": "subslide"
    }
   },
   "outputs": [],
   "source": [
    "import re\n",
    "import pandas_flavor as pf\n",
    "\n",
    "@pf.register_dataframe_method\n",
    "def clean_names(df, case_type='lower'):\n",
    "    \"\"\"Function for cleaning column names in a pandas DataFrame.\n",
    "    \"\"\"\n",
    "    def _change_case(col: str, case_type: str) -> str:\n",
    "        \"\"\"Change case of a column name.\"\"\"\n",
    "        if case_type.lower() == \"upper\":\n",
    "            col = col.upper()\n",
    "        elif case_type.lower() == \"lower\":\n",
    "            col = col.lower()\n",
    "        return col\n",
    "\n",
    "    def _normalize(col_name: str) -> str:\n",
    "        \"\"\"Normalize common special characters.\"\"\"\n",
    "        result = col_name\n",
    "        for search, replace in [(r\"[ /:,?()\\.-]\", \"_\"), (r\"['’]\", \"\")]:\n",
    "            result = re.sub(search, replace, result)\n",
    "        return result\n",
    "\n",
    "    # Should the columns be upper or lower case?\n",
    "    df = df.rename(columns=lambda x: _change_case(x, case_type))\n",
    "\n",
    "    # Normalize common special characters.\n",
    "    df = df.rename(columns=_normalize)\n",
    "\n",
    "    # Only use single underscores.\n",
    "    df = df.rename(columns=lambda x: re.sub(\"_+\", \"_\", x))\n",
    "    \n",
    "    return df"
   ]
  },
  {
   "cell_type": "code",
   "execution_count": null,
   "metadata": {
    "slideshow": {
     "slide_type": "subslide"
    }
   },
   "outputs": [],
   "source": [
    "df.clean_names(case_type='upper')\n",
    "df.head()"
   ]
  },
  {
   "cell_type": "markdown",
   "metadata": {
    "slideshow": {
     "slide_type": "subslide"
    }
   },
   "source": [
    "Pandas-flavor enables you to easily extend the Pandas API."
   ]
  },
  {
   "cell_type": "markdown",
   "metadata": {
    "slideshow": {
     "slide_type": "slide"
    }
   },
   "source": [
    "## This allows you to write your own flavor of Pandas"
   ]
  },
  {
   "cell_type": "markdown",
   "metadata": {
    "slideshow": {
     "slide_type": "fragment"
    }
   },
   "source": [
    "Two ways:\n",
    "* Method registration\n",
    "* Accessor registration"
   ]
  },
  {
   "cell_type": "markdown",
   "metadata": {
    "slideshow": {
     "slide_type": "slide"
    }
   },
   "source": [
    "## Part 1: Method registration\n",
    "\n",
    "Method registration is simple with Pandas-flavor. Here's the syntax:"
   ]
  },
  {
   "cell_type": "code",
   "execution_count": null,
   "metadata": {
    "slideshow": {
     "slide_type": "fragment"
    }
   },
   "outputs": [],
   "source": [
    "import pandas_flavor as pf\n",
    "\n",
    "@pf.register_dataframe_method\n",
    "def my_method(df, arg1, arg2):\n",
    "    print(arg1, arg2)\n",
    "    return df"
   ]
  },
  {
   "cell_type": "markdown",
   "metadata": {
    "slideshow": {
     "slide_type": "subslide"
    }
   },
   "source": [
    "Your method is immediately available on the DataFrame API."
   ]
  },
  {
   "cell_type": "code",
   "execution_count": null,
   "metadata": {
    "slideshow": {
     "slide_type": "fragment"
    }
   },
   "outputs": [],
   "source": [
    "df = pd.DataFrame({'x': [0, 0], 'y': [1, 1]})\n",
    "df.my_method('hello', 'world')"
   ]
  },
  {
   "cell_type": "markdown",
   "metadata": {
    "slideshow": {
     "slide_type": "subslide"
    }
   },
   "source": [
    "To write your own \"flavor\" of Pandas"
   ]
  },
  {
   "cell_type": "markdown",
   "metadata": {
    "slideshow": {
     "slide_type": "fragment"
    }
   },
   "source": [
    "1. collect your custom registered functions in a Python module (or package)\n",
    "2. import it."
   ]
  },
  {
   "cell_type": "markdown",
   "metadata": {
    "slideshow": {
     "slide_type": "fragment"
    }
   },
   "source": [
    "In this example, I'll write my own \"flavor\" of Pandas called `my_flavor`."
   ]
  },
  {
   "cell_type": "code",
   "execution_count": null,
   "metadata": {
    "slideshow": {
     "slide_type": "subslide"
    }
   },
   "outputs": [],
   "source": [
    "import my_flavor\n",
    "\n",
    "df = pd.DataFrame({'x': [0, 0], 'y': [1, 1]})\n",
    "\n",
    "df.zach_func1()\n",
    "df.zach_func2()"
   ]
  },
  {
   "cell_type": "markdown",
   "metadata": {
    "slideshow": {
     "slide_type": "subslide"
    }
   },
   "source": [
    "A really interesting syntax sugar that emerged from Pandas-flavor is \"method-chaining\"."
   ]
  },
  {
   "cell_type": "code",
   "execution_count": null,
   "metadata": {
    "slideshow": {
     "slide_type": "subslide"
    }
   },
   "outputs": [],
   "source": [
    "df = (\n",
    "    pd.DataFrame({'x': [0, 0], 'y': [1, 1]})\n",
    "    .zach_func1()\n",
    "    .zach_func2()\n",
    ")"
   ]
  },
  {
   "cell_type": "markdown",
   "metadata": {
    "slideshow": {
     "slide_type": "subslide"
    }
   },
   "source": [
    "This is extremely useful for \"data-cleaning\" activities."
   ]
  },
  {
   "cell_type": "markdown",
   "metadata": {
    "slideshow": {
     "slide_type": "subslide"
    }
   },
   "source": [
    "## Pyjanitor\n",
    "\n",
    "For example, a popular \"flavor\" in the wild is [**pyjanitor**](https://github.com/ericmjl/pyjanitor).\n",
    "\n",
    "<img src=\"img/pyjanitor-logo.svg\" width=\"20%\">"
   ]
  },
  {
   "cell_type": "code",
   "execution_count": null,
   "metadata": {
    "slideshow": {
     "slide_type": "subslide"
    }
   },
   "outputs": [],
   "source": [
    "df = pd.read_excel('data/dirty_data.xlsx')\n",
    "df.head()"
   ]
  },
  {
   "cell_type": "code",
   "execution_count": null,
   "metadata": {
    "slideshow": {
     "slide_type": "subslide"
    }
   },
   "outputs": [],
   "source": [
    "import datetime as dt \n",
    "import numpy as np\n",
    "\n",
    "df = (\n",
    "    pd.read_excel('data/dirty_data.xlsx')\n",
    "    \n",
    "    # Remove the empty column and empty row\n",
    "    .drop(\"do not edit! --->\", axis=1).drop(7, axis=0)\n",
    "    .rename(\n",
    "        mapper={\n",
    "            \"First Name\": \"first_name\",\n",
    "            \"Last Name\": \"last_name\",\n",
    "            \"Employee Status\": \"employee_status\",\n",
    "            \"Subject\": \"subject\",\n",
    "            \"Hire Date\": \"hire_date\",\n",
    "            \"% Allocated\": \"percentage_allocated\",\n",
    "            \"Full time?\": \"full_time\",\n",
    "            \"Certification\": \"certification\",\n",
    "        },\n",
    "        axis=1\n",
    "    )\n",
    ")\n",
    "\n",
    "# Correct hire date.\n",
    "df[\"hire_date\"] = pd.TimedeltaIndex(df[\"hire_date\"], unit=\"d\") + dt.datetime(1899, 12, 30)\n",
    "\n",
    "# Squash certification columns\n",
    "df['certification'] = df['certification'].combine_first(df['Certification.1'])\n",
    "gratitude_points = [10, 50, 20, 1000, 392, 115, 12, 182, 1190, 582, 25, 317]\n",
    "df = (\n",
    "    df\n",
    "    .drop([\"Certification.1\", \"Certification.2\"], axis=1)\n",
    "    # Add gratidude points.\n",
    "    .assign(gratitude_points=gratitude_points)\n",
    ")\n",
    "\n",
    "# Log-transform gratitude points.\n",
    "df[\"gratitude_points_log\"] = df[\"gratitude_points\"].apply(np.log10)\n",
    "\n",
    "df.head()"
   ]
  },
  {
   "cell_type": "markdown",
   "metadata": {
    "slideshow": {
     "slide_type": "subslide"
    }
   },
   "source": [
    "### The pyjanitor flavor simplifies Pandas' API for data cleaning."
   ]
  },
  {
   "cell_type": "code",
   "execution_count": null,
   "metadata": {
    "slideshow": {
     "slide_type": "subslide"
    }
   },
   "outputs": [],
   "source": [
    "import janitor\n",
    "\n",
    "df = (\n",
    "    pd.read_excel(\"data/dirty_data.xlsx\")\n",
    "    .remove_empty()\n",
    "    .clean_names(strip_underscores=True)\n",
    "    .coalesce([\"certification\", \"certification_1\"])\n",
    "    .convert_excel_date(\"hire_date\")\n",
    "    .rename_column(\"%_allocated\", \"percent_allocated\")\n",
    "    .add_column(\"gratitude_points\", gratitude_points)\n",
    "    .transform_column(\"gratitude_points\", np.log10, \"gratitude_log\")\n",
    ")\n",
    "df.head()"
   ]
  },
  {
   "cell_type": "markdown",
   "metadata": {
    "slideshow": {
     "slide_type": "subslide"
    }
   },
   "source": [
    "## Conclusion (Part 1)\n",
    "\n",
    "Using pandas-flavor, you can write your own flavor of Pandas by **registering methods in a python module** (or package).\n",
    "\n",
    "You can easily make your flavor pip-installable.\n",
    "\n",
    "i.e. `pip install my_flavor`"
   ]
  },
  {
   "cell_type": "markdown",
   "metadata": {
    "slideshow": {
     "slide_type": "slide"
    }
   },
   "source": [
    "## Part 2: Accessor registration."
   ]
  },
  {
   "cell_type": "markdown",
   "metadata": {
    "slideshow": {
     "slide_type": "subslide"
    }
   },
   "source": [
    "An **accessor** is an *object* attached to a DataFrame that can affect (i.e. mutate) that DataFrame."
   ]
  },
  {
   "cell_type": "markdown",
   "metadata": {
    "slideshow": {
     "slide_type": "subslide"
    }
   },
   "source": [
    "## Start with a real life use-case\n",
    "\n",
    "<img src=\"img/phylopandas-logo.png\" width=\"60%\">"
   ]
  },
  {
   "cell_type": "markdown",
   "metadata": {
    "slideshow": {
     "slide_type": "subslide"
    }
   },
   "source": [
    "In biology, we have all kinds of (non-sense) formats. \n",
    "\n",
    "For example, `fasta` is a common format for genomic sequence data. "
   ]
  },
  {
   "cell_type": "code",
   "execution_count": null,
   "metadata": {
    "slideshow": {
     "slide_type": "subslide"
    }
   },
   "outputs": [],
   "source": [
    "with open('data/PF08793.fasta', 'r') as f:\n",
    "    print(f.read())"
   ]
  },
  {
   "cell_type": "markdown",
   "metadata": {
    "slideshow": {
     "slide_type": "subslide"
    }
   },
   "source": [
    "I wanted to read biological data like this into Pandas.\n",
    "\n",
    "Naturally, I started by writing my own `read_` functions."
   ]
  },
  {
   "cell_type": "code",
   "execution_count": null,
   "metadata": {
    "slideshow": {
     "slide_type": "subslide"
    }
   },
   "outputs": [],
   "source": [
    "import phylopandas as ph\n",
    "\n",
    "df = ph.read_fasta('data/PF08793.fasta')\n",
    "df.head()"
   ]
  },
  {
   "cell_type": "markdown",
   "metadata": {
    "slideshow": {
     "slide_type": "subslide"
    }
   },
   "source": [
    "But I couldn't write that DataFrame back out to biological data formats."
   ]
  },
  {
   "cell_type": "markdown",
   "metadata": {
    "slideshow": {
     "slide_type": "fragment"
    }
   },
   "source": [
    "This is what inspired me to write pandas-flavor."
   ]
  },
  {
   "cell_type": "markdown",
   "metadata": {
    "slideshow": {
     "slide_type": "fragment"
    }
   },
   "source": [
    "I created an *accessor* with custom write methods. \n"
   ]
  },
  {
   "cell_type": "markdown",
   "metadata": {
    "slideshow": {
     "slide_type": "subslide"
    }
   },
   "source": [
    "What I needed as a custom API on Pandas to write out the data.\n",
    "```python\n",
    "df.phylo.to_fasta(...)\n",
    "```"
   ]
  },
  {
   "cell_type": "code",
   "execution_count": null,
   "metadata": {
    "slideshow": {
     "slide_type": "fragment"
    }
   },
   "outputs": [],
   "source": [
    "print(df.phylo.to_fasta(id_col='label'))"
   ]
  },
  {
   "cell_type": "markdown",
   "metadata": {
    "slideshow": {
     "slide_type": "subslide"
    }
   },
   "source": [
    "The PhyloPandas flavor registers an accessor, named `phylo`, on Pandas' DataFrame that include custom functions for biological data."
   ]
  },
  {
   "cell_type": "code",
   "execution_count": null,
   "metadata": {
    "slideshow": {
     "slide_type": "subslide"
    }
   },
   "outputs": [],
   "source": [
    "accessor = df.phylo\n",
    "\n",
    "for item in dir(accessor):\n",
    "    if item[:2] == 'to':\n",
    "        print(item)"
   ]
  },
  {
   "cell_type": "markdown",
   "metadata": {
    "slideshow": {
     "slide_type": "subslide"
    }
   },
   "source": [
    "Combining representations of data into a single DataFrame."
   ]
  },
  {
   "cell_type": "code",
   "execution_count": null,
   "metadata": {
    "slideshow": {
     "slide_type": "subslide"
    }
   },
   "outputs": [],
   "source": [
    "with open('data/PF08793.newick', 'r') as f:\n",
    "    print(f.read())"
   ]
  },
  {
   "cell_type": "code",
   "execution_count": null,
   "metadata": {
    "slideshow": {
     "slide_type": "subslide"
    }
   },
   "outputs": [],
   "source": [
    "from phylovega import TreeChart\n",
    "\n",
    "TreeChart.from_newick('data/PF08793.newick')"
   ]
  },
  {
   "cell_type": "markdown",
   "metadata": {
    "slideshow": {
     "slide_type": "subslide"
    }
   },
   "source": [
    "The PhyloPandas flavor has some clever logic to merge two data formats in a single DataFrame."
   ]
  },
  {
   "cell_type": "code",
   "execution_count": null,
   "metadata": {
    "slideshow": {
     "slide_type": "subslide"
    }
   },
   "outputs": [],
   "source": [
    "df = ph.read_fasta('data/PF08793.fasta')\n",
    "df.head()"
   ]
  },
  {
   "cell_type": "code",
   "execution_count": null,
   "metadata": {
    "slideshow": {
     "slide_type": "fragment"
    }
   },
   "outputs": [],
   "source": [
    "df = (\n",
    "    ph.read_fasta('data/PF08793.fasta')\n",
    "    .phylo.read_newick('data/PF08793.newick', combine_on='id')\n",
    ")\n",
    "\n",
    "df.head()"
   ]
  },
  {
   "cell_type": "markdown",
   "metadata": {
    "slideshow": {
     "slide_type": "subslide"
    }
   },
   "source": [
    "Don't forget, we still get all of Pandas!"
   ]
  },
  {
   "cell_type": "code",
   "execution_count": null,
   "metadata": {
    "slideshow": {
     "slide_type": "subslide"
    }
   },
   "outputs": [],
   "source": [
    "df[df.length > 0.8]"
   ]
  },
  {
   "cell_type": "markdown",
   "metadata": {
    "slideshow": {
     "slide_type": "subslide"
    }
   },
   "source": [
    "And just for fun, we added a simple `.display` method for showing the data."
   ]
  },
  {
   "cell_type": "code",
   "execution_count": null,
   "metadata": {
    "scrolled": true,
    "slideshow": {
     "slide_type": "fragment"
    }
   },
   "outputs": [],
   "source": [
    "df.phylo.display()"
   ]
  },
  {
   "cell_type": "markdown",
   "metadata": {
    "slideshow": {
     "slide_type": "subslide"
    }
   },
   "source": [
    "In this approach, we flavor Pandas by containing all our custom functions in an accessor. "
   ]
  },
  {
   "cell_type": "markdown",
   "metadata": {
    "slideshow": {
     "slide_type": "slide"
    }
   },
   "source": [
    "## How do we write an accessor?"
   ]
  },
  {
   "cell_type": "markdown",
   "metadata": {
    "slideshow": {
     "slide_type": "subslide"
    }
   },
   "source": [
    "Checkout the `my_flavor_accessor.py` module."
   ]
  },
  {
   "cell_type": "code",
   "execution_count": null,
   "metadata": {
    "slideshow": {
     "slide_type": "subslide"
    }
   },
   "outputs": [],
   "source": [
    "import my_flavor_accessor\n",
    "\n",
    "df = pd.DataFrame({'x': [0, 0], 'y': [1, 1]})\n",
    "\n",
    "df.zach.func1()\n",
    "df.zach.func2()"
   ]
  },
  {
   "cell_type": "markdown",
   "metadata": {
    "slideshow": {
     "slide_type": "subslide"
    }
   },
   "source": [
    "## Conclusion (Part 2): What does this mean for you?"
   ]
  },
  {
   "cell_type": "markdown",
   "metadata": {
    "slideshow": {
     "slide_type": "subslide"
    }
   },
   "source": [
    "* We (the scientific community) can write domain-specific DataFrames.\n",
    "\n",
    "        Follow our example in the evolutionary biology community.\n",
    "\n",
    "* DataFrames encourage \"data scientists\" to define schemas or grammars (standardized column names) for their domain.\n",
    "\n",
    "        Pandas Flavor makes it easy to build a domain-specific API for those schemas."
   ]
  },
  {
   "cell_type": "markdown",
   "metadata": {
    "slideshow": {
     "slide_type": "slide"
    }
   },
   "source": [
    "## Other Pandas flavors in the wild..."
   ]
  },
  {
   "cell_type": "markdown",
   "metadata": {
    "slideshow": {
     "slide_type": "fragment"
    }
   },
   "source": [
    "* pandas `.plot`\n",
    "* pdvega\n",
    "* pyjanitor\n",
    "* geopandas\n",
    "* python-ctd\n",
    "* pingouin"
   ]
  },
  {
   "cell_type": "code",
   "execution_count": null,
   "metadata": {
    "slideshow": {
     "slide_type": "subslide"
    }
   },
   "outputs": [],
   "source": [
    "%matplotlib inline\n",
    "\n",
    "df.plot.bar()"
   ]
  },
  {
   "cell_type": "markdown",
   "metadata": {
    "slideshow": {
     "slide_type": "slide"
    }
   },
   "source": [
    "## Acknowledgements\n",
    "\n",
    "* Eric Ma (creator of pyjanitor)\n",
    "* BioPython community (for PhyloPandas inspiration)\n",
    "* Jeet Sukumaran (creator of DendroPy)\n",
    "* Jake Vanderplas (original review of pandas-flavor)\n",
    "* Mike Harms (graduate PI and contributor to phylopandas)\n",
    "\n",
    "Thanks!"
   ]
  }
 ],
 "metadata": {
  "celltoolbar": "Slideshow",
  "kernelspec": {
   "display_name": "Python 3",
   "language": "python",
   "name": "python3"
  },
  "language_info": {
   "codemirror_mode": {
    "name": "ipython",
    "version": 3
   },
   "file_extension": ".py",
   "mimetype": "text/x-python",
   "name": "python",
   "nbconvert_exporter": "python",
   "pygments_lexer": "ipython3",
   "version": "3.7.4"
  },
  "rise": {
   "enable_chalkboard": true
  }
 },
 "nbformat": 4,
 "nbformat_minor": 4
}
