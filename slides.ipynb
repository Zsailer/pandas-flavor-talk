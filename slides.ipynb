{
 "cells": [
  {
   "cell_type": "markdown",
   "metadata": {},
   "source": [
    "# Pandas Flavor\n",
    "\n",
    "## The easy way to write your own \"flavor\" of Pandas.\n",
    "\n",
    "Zach Sailer"
   ]
  },
  {
   "cell_type": "markdown",
   "metadata": {},
   "source": [
    "## Here's a little teaser...\n",
    "\n",
    "Pandas-flavor is a backward-compatible extension API for Pandas."
   ]
  },
  {
   "cell_type": "code",
   "execution_count": 17,
   "metadata": {},
   "outputs": [
    {
     "data": {
      "text/html": [
       "<div>\n",
       "<style scoped>\n",
       "    .dataframe tbody tr th:only-of-type {\n",
       "        vertical-align: middle;\n",
       "    }\n",
       "\n",
       "    .dataframe tbody tr th {\n",
       "        vertical-align: top;\n",
       "    }\n",
       "\n",
       "    .dataframe thead th {\n",
       "        text-align: right;\n",
       "    }\n",
       "</style>\n",
       "<table border=\"1\" class=\"dataframe\">\n",
       "  <thead>\n",
       "    <tr style=\"text-align: right;\">\n",
       "      <th></th>\n",
       "      <th>COLUMN 1</th>\n",
       "      <th>coLUMN 2</th>\n",
       "      <th>column 3</th>\n",
       "      <th>COLUMN___  4</th>\n",
       "    </tr>\n",
       "  </thead>\n",
       "  <tbody>\n",
       "    <tr>\n",
       "      <td>0</td>\n",
       "      <td>a</td>\n",
       "      <td>1</td>\n",
       "      <td>A</td>\n",
       "      <td>1</td>\n",
       "    </tr>\n",
       "    <tr>\n",
       "      <td>1</td>\n",
       "      <td>b</td>\n",
       "      <td>2</td>\n",
       "      <td>B</td>\n",
       "      <td>2</td>\n",
       "    </tr>\n",
       "    <tr>\n",
       "      <td>2</td>\n",
       "      <td>c</td>\n",
       "      <td>3</td>\n",
       "      <td>C</td>\n",
       "      <td>3</td>\n",
       "    </tr>\n",
       "  </tbody>\n",
       "</table>\n",
       "</div>"
      ],
      "text/plain": [
       "  COLUMN 1  coLUMN 2 column 3  COLUMN___  4\n",
       "0        a         1        A             1\n",
       "1        b         2        B             2\n",
       "2        c         3        C             3"
      ]
     },
     "execution_count": 17,
     "metadata": {},
     "output_type": "execute_result"
    }
   ],
   "source": [
    "import pandas as pd\n",
    "\n",
    "df = pd.read_csv('data/dirty-data.csv')\n",
    "df.head()"
   ]
  },
  {
   "cell_type": "code",
   "execution_count": 40,
   "metadata": {},
   "outputs": [],
   "source": [
    "import re\n",
    "\n",
    "def clean_names(df, case_type='lower'):\n",
    "    \"\"\"Function for cleaning column names in a pandas DataFrame.\n",
    "    \"\"\"\n",
    "    \n",
    "    def _change_case(col, case_type):\n",
    "        \"\"\"Change case of a column name.\"\"\"\n",
    "        if case_type.lower() == \"upper\":\n",
    "            col = col.upper()\n",
    "        elif case_type.lower() == \"lower\":\n",
    "            col = col.lower()\n",
    "        return col\n",
    "\n",
    "    def _normalize(col_name):\n",
    "        \"\"\"Normalize common special characters.\"\"\"\n",
    "        result = col_name\n",
    "        for search, replace in [(r\"[ /:,?()\\.-]\", \"_\"), (r\"['’]\", \"\")]:\n",
    "            result = re.sub(search, replace, result)\n",
    "        return result\n",
    "\n",
    "    # Should the columns be upper or lower case?\n",
    "    df = df.rename(columns=lambda x: _change_case(x, case_type))\n",
    "\n",
    "    # Normalize common special characters.\n",
    "    df = df.rename(columns=_normalize)\n",
    "\n",
    "    # Only use single underscores.\n",
    "    df = df.rename(columns=lambda x: re.sub(\"_+\", \"_\", x))\n",
    "    \n",
    "    return df"
   ]
  },
  {
   "cell_type": "code",
   "execution_count": 42,
   "metadata": {},
   "outputs": [],
   "source": [
    "df = clean_names(df, case_type='lower')"
   ]
  },
  {
   "cell_type": "markdown",
   "metadata": {},
   "source": [
    "## The pandas flavor way"
   ]
  },
  {
   "cell_type": "code",
   "execution_count": 40,
   "metadata": {},
   "outputs": [],
   "source": [
    "import re\n",
    "import pandas_flavor as pf\n",
    "\n",
    "@pf.register_dataframe_method\n",
    "def clean_names(df, case_type='lower'):\n",
    "    \"\"\"Function for cleaning column names in a pandas DataFrame.\n",
    "    \"\"\"\n",
    "    def _change_case(col: str, case_type: str) -> str:\n",
    "        \"\"\"Change case of a column name.\"\"\"\n",
    "        if case_type.lower() == \"upper\":\n",
    "            col = col.upper()\n",
    "        elif case_type.lower() == \"lower\":\n",
    "            col = col.lower()\n",
    "        return col\n",
    "\n",
    "    def _normalize(col_name: str) -> str:\n",
    "        \"\"\"Normalize common special characters.\"\"\"\n",
    "        result = col_name\n",
    "        for search, replace in [(r\"[ /:,?()\\.-]\", \"_\"), (r\"['’]\", \"\")]:\n",
    "            result = re.sub(search, replace, result)\n",
    "        return result\n",
    "\n",
    "    # Should the columns be upper or lower case?\n",
    "    df = df.rename(columns=lambda x: _change_case(x, case_type))\n",
    "\n",
    "    # Normalize common special characters.\n",
    "    df = df.rename(columns=_normalize)\n",
    "\n",
    "    # Only use single underscores.\n",
    "    df = df.rename(columns=lambda x: re.sub(\"_+\", \"_\", x))\n",
    "    \n",
    "    return df"
   ]
  },
  {
   "cell_type": "code",
   "execution_count": 37,
   "metadata": {},
   "outputs": [
    {
     "data": {
      "text/html": [
       "<div>\n",
       "<style scoped>\n",
       "    .dataframe tbody tr th:only-of-type {\n",
       "        vertical-align: middle;\n",
       "    }\n",
       "\n",
       "    .dataframe tbody tr th {\n",
       "        vertical-align: top;\n",
       "    }\n",
       "\n",
       "    .dataframe thead th {\n",
       "        text-align: right;\n",
       "    }\n",
       "</style>\n",
       "<table border=\"1\" class=\"dataframe\">\n",
       "  <thead>\n",
       "    <tr style=\"text-align: right;\">\n",
       "      <th></th>\n",
       "      <th>COLUMN_1</th>\n",
       "      <th>COLUMN_2</th>\n",
       "      <th>COLUMN_3</th>\n",
       "      <th>COLUMN_4</th>\n",
       "    </tr>\n",
       "  </thead>\n",
       "  <tbody>\n",
       "    <tr>\n",
       "      <td>0</td>\n",
       "      <td>a</td>\n",
       "      <td>1</td>\n",
       "      <td>A</td>\n",
       "      <td>1</td>\n",
       "    </tr>\n",
       "    <tr>\n",
       "      <td>1</td>\n",
       "      <td>b</td>\n",
       "      <td>2</td>\n",
       "      <td>B</td>\n",
       "      <td>2</td>\n",
       "    </tr>\n",
       "    <tr>\n",
       "      <td>2</td>\n",
       "      <td>c</td>\n",
       "      <td>3</td>\n",
       "      <td>C</td>\n",
       "      <td>3</td>\n",
       "    </tr>\n",
       "  </tbody>\n",
       "</table>\n",
       "</div>"
      ],
      "text/plain": [
       "  COLUMN_1  COLUMN_2 COLUMN_3  COLUMN_4\n",
       "0        a         1        A         1\n",
       "1        b         2        B         2\n",
       "2        c         3        C         3"
      ]
     },
     "execution_count": 37,
     "metadata": {},
     "output_type": "execute_result"
    }
   ],
   "source": [
    "df.clean_names(case_type='upper')\n",
    "df.head()"
   ]
  },
  {
   "cell_type": "markdown",
   "metadata": {},
   "source": [
    "Pandas-flavor enables you to easily extend the Pandas API."
   ]
  },
  {
   "cell_type": "markdown",
   "metadata": {},
   "source": [
    "## Write your own flavor of Pandas"
   ]
  },
  {
   "cell_type": "markdown",
   "metadata": {},
   "source": [
    "Two ways:\n",
    "* Method registration\n",
    "* Accessor registration"
   ]
  },
  {
   "cell_type": "markdown",
   "metadata": {},
   "source": [
    "## Part 1: Method registration\n",
    "\n",
    "Method registration is simple. It will always follow this syntax:"
   ]
  },
  {
   "cell_type": "code",
   "execution_count": 43,
   "metadata": {},
   "outputs": [],
   "source": [
    "import pandas_flavor as pf\n",
    "\n",
    "@pf.register_dataframe_method\n",
    "def my_method(df, arg1, arg2):\n",
    "    print(arg1, arg2)\n",
    "    return df"
   ]
  },
  {
   "cell_type": "markdown",
   "metadata": {},
   "source": [
    "Your method is immediately available on the DataFrame API."
   ]
  },
  {
   "cell_type": "code",
   "execution_count": 45,
   "metadata": {},
   "outputs": [
    {
     "name": "stdout",
     "output_type": "stream",
     "text": [
      "hello world\n"
     ]
    },
    {
     "data": {
      "text/html": [
       "<div>\n",
       "<style scoped>\n",
       "    .dataframe tbody tr th:only-of-type {\n",
       "        vertical-align: middle;\n",
       "    }\n",
       "\n",
       "    .dataframe tbody tr th {\n",
       "        vertical-align: top;\n",
       "    }\n",
       "\n",
       "    .dataframe thead th {\n",
       "        text-align: right;\n",
       "    }\n",
       "</style>\n",
       "<table border=\"1\" class=\"dataframe\">\n",
       "  <thead>\n",
       "    <tr style=\"text-align: right;\">\n",
       "      <th></th>\n",
       "      <th>x</th>\n",
       "      <th>y</th>\n",
       "    </tr>\n",
       "  </thead>\n",
       "  <tbody>\n",
       "    <tr>\n",
       "      <td>0</td>\n",
       "      <td>0</td>\n",
       "      <td>1</td>\n",
       "    </tr>\n",
       "    <tr>\n",
       "      <td>1</td>\n",
       "      <td>0</td>\n",
       "      <td>1</td>\n",
       "    </tr>\n",
       "  </tbody>\n",
       "</table>\n",
       "</div>"
      ],
      "text/plain": [
       "   x  y\n",
       "0  0  1\n",
       "1  0  1"
      ]
     },
     "execution_count": 45,
     "metadata": {},
     "output_type": "execute_result"
    }
   ],
   "source": [
    "df = pd.DataFrame({'x': [0, 0], 'y': [1, 1]})\n",
    "df.my_method('hello', 'world')"
   ]
  },
  {
   "cell_type": "markdown",
   "metadata": {},
   "source": [
    "To write your own \"flavor\" of Pandas, collect your custom registered functions in a Python module (or package) and import it.\n",
    "\n",
    "In this example, I'll write my own \"flavor\" of Pandas called `my_flavor`."
   ]
  },
  {
   "cell_type": "code",
   "execution_count": 47,
   "metadata": {},
   "outputs": [
    {
     "name": "stdout",
     "output_type": "stream",
     "text": [
      "Hello, everyone!\n",
      "\n",
      "Check out my flavor of Pandas\n"
     ]
    },
    {
     "data": {
      "text/html": [
       "<div>\n",
       "<style scoped>\n",
       "    .dataframe tbody tr th:only-of-type {\n",
       "        vertical-align: middle;\n",
       "    }\n",
       "\n",
       "    .dataframe tbody tr th {\n",
       "        vertical-align: top;\n",
       "    }\n",
       "\n",
       "    .dataframe thead th {\n",
       "        text-align: right;\n",
       "    }\n",
       "</style>\n",
       "<table border=\"1\" class=\"dataframe\">\n",
       "  <thead>\n",
       "    <tr style=\"text-align: right;\">\n",
       "      <th></th>\n",
       "      <th>x</th>\n",
       "      <th>y</th>\n",
       "    </tr>\n",
       "  </thead>\n",
       "  <tbody>\n",
       "    <tr>\n",
       "      <td>0</td>\n",
       "      <td>0</td>\n",
       "      <td>1</td>\n",
       "    </tr>\n",
       "    <tr>\n",
       "      <td>1</td>\n",
       "      <td>0</td>\n",
       "      <td>1</td>\n",
       "    </tr>\n",
       "  </tbody>\n",
       "</table>\n",
       "</div>"
      ],
      "text/plain": [
       "   x  y\n",
       "0  0  1\n",
       "1  0  1"
      ]
     },
     "execution_count": 47,
     "metadata": {},
     "output_type": "execute_result"
    }
   ],
   "source": [
    "import my_flavor\n",
    "\n",
    "df = pd.DataFrame({'x': [0, 0], 'y': [1, 1]})\n",
    "\n",
    "df.zach_func1()\n",
    "df.zach_func2()"
   ]
  },
  {
   "cell_type": "markdown",
   "metadata": {},
   "source": [
    "A really interesting syntax sugar that emerged from Pandas-flavor is \"method-chaining\"."
   ]
  },
  {
   "cell_type": "code",
   "execution_count": 49,
   "metadata": {},
   "outputs": [
    {
     "name": "stdout",
     "output_type": "stream",
     "text": [
      "Hello, everyone!\n",
      "\n",
      "Check out my flavor of Pandas\n"
     ]
    }
   ],
   "source": [
    "df = (\n",
    "    pd.DataFrame({'x': [0, 0], 'y': [1, 1]})\n",
    "    .zach_func1()\n",
    "    .zach_func2()\n",
    ")"
   ]
  },
  {
   "cell_type": "markdown",
   "metadata": {},
   "source": [
    "This is extremely useful for \"data-cleaning\" activities."
   ]
  },
  {
   "cell_type": "markdown",
   "metadata": {},
   "source": [
    "## Pyjanitor\n",
    "\n",
    "For example, a popular \"flavor\" in the wild is [**pyjanitor**](https://github.com/ericmjl/pyjanitor).\n",
    "\n",
    "<img src=\"pyjanitor-logo.svg\" width=\"20%\">"
   ]
  },
  {
   "cell_type": "code",
   "execution_count": 68,
   "metadata": {},
   "outputs": [
    {
     "data": {
      "text/html": [
       "<div>\n",
       "<style scoped>\n",
       "    .dataframe tbody tr th:only-of-type {\n",
       "        vertical-align: middle;\n",
       "    }\n",
       "\n",
       "    .dataframe tbody tr th {\n",
       "        vertical-align: top;\n",
       "    }\n",
       "\n",
       "    .dataframe thead th {\n",
       "        text-align: right;\n",
       "    }\n",
       "</style>\n",
       "<table border=\"1\" class=\"dataframe\">\n",
       "  <thead>\n",
       "    <tr style=\"text-align: right;\">\n",
       "      <th></th>\n",
       "      <th>First Name</th>\n",
       "      <th>Last Name</th>\n",
       "      <th>Employee Status</th>\n",
       "      <th>Subject</th>\n",
       "      <th>Hire Date</th>\n",
       "      <th>% Allocated</th>\n",
       "      <th>Full time?</th>\n",
       "      <th>do not edit! ---&gt;</th>\n",
       "      <th>Certification</th>\n",
       "      <th>Certification.1</th>\n",
       "      <th>Certification.2</th>\n",
       "    </tr>\n",
       "  </thead>\n",
       "  <tbody>\n",
       "    <tr>\n",
       "      <td>0</td>\n",
       "      <td>Jason</td>\n",
       "      <td>Bourne</td>\n",
       "      <td>Teacher</td>\n",
       "      <td>PE</td>\n",
       "      <td>39690.0</td>\n",
       "      <td>0.75</td>\n",
       "      <td>Yes</td>\n",
       "      <td>NaN</td>\n",
       "      <td>Physical ed</td>\n",
       "      <td>Theater</td>\n",
       "      <td>NaN</td>\n",
       "    </tr>\n",
       "    <tr>\n",
       "      <td>1</td>\n",
       "      <td>Jason</td>\n",
       "      <td>Bourne</td>\n",
       "      <td>Teacher</td>\n",
       "      <td>Drafting</td>\n",
       "      <td>39690.0</td>\n",
       "      <td>0.25</td>\n",
       "      <td>Yes</td>\n",
       "      <td>NaN</td>\n",
       "      <td>Physical ed</td>\n",
       "      <td>Theater</td>\n",
       "      <td>NaN</td>\n",
       "    </tr>\n",
       "    <tr>\n",
       "      <td>2</td>\n",
       "      <td>Alicia</td>\n",
       "      <td>Keys</td>\n",
       "      <td>Teacher</td>\n",
       "      <td>Music</td>\n",
       "      <td>37118.0</td>\n",
       "      <td>1.00</td>\n",
       "      <td>Yes</td>\n",
       "      <td>NaN</td>\n",
       "      <td>Instr. music</td>\n",
       "      <td>Vocal music</td>\n",
       "      <td>NaN</td>\n",
       "    </tr>\n",
       "    <tr>\n",
       "      <td>3</td>\n",
       "      <td>Ada</td>\n",
       "      <td>Lovelace</td>\n",
       "      <td>Teacher</td>\n",
       "      <td>NaN</td>\n",
       "      <td>27515.0</td>\n",
       "      <td>1.00</td>\n",
       "      <td>Yes</td>\n",
       "      <td>NaN</td>\n",
       "      <td>PENDING</td>\n",
       "      <td>Computers</td>\n",
       "      <td>NaN</td>\n",
       "    </tr>\n",
       "    <tr>\n",
       "      <td>4</td>\n",
       "      <td>Desus</td>\n",
       "      <td>Nice</td>\n",
       "      <td>Administration</td>\n",
       "      <td>Dean</td>\n",
       "      <td>41431.0</td>\n",
       "      <td>1.00</td>\n",
       "      <td>Yes</td>\n",
       "      <td>NaN</td>\n",
       "      <td>PENDING</td>\n",
       "      <td>NaN</td>\n",
       "      <td>NaN</td>\n",
       "    </tr>\n",
       "  </tbody>\n",
       "</table>\n",
       "</div>"
      ],
      "text/plain": [
       "  First Name Last Name Employee Status   Subject  Hire Date  % Allocated  \\\n",
       "0      Jason    Bourne         Teacher        PE    39690.0         0.75   \n",
       "1      Jason    Bourne         Teacher  Drafting    39690.0         0.25   \n",
       "2     Alicia      Keys         Teacher     Music    37118.0         1.00   \n",
       "3        Ada  Lovelace         Teacher       NaN    27515.0         1.00   \n",
       "4      Desus      Nice  Administration      Dean    41431.0         1.00   \n",
       "\n",
       "  Full time?  do not edit! ---> Certification Certification.1  Certification.2  \n",
       "0        Yes                NaN   Physical ed         Theater              NaN  \n",
       "1        Yes                NaN   Physical ed         Theater              NaN  \n",
       "2        Yes                NaN  Instr. music     Vocal music              NaN  \n",
       "3        Yes                NaN       PENDING       Computers              NaN  \n",
       "4        Yes                NaN       PENDING             NaN              NaN  "
      ]
     },
     "execution_count": 68,
     "metadata": {},
     "output_type": "execute_result"
    }
   ],
   "source": [
    "df = pd.read_excel('data/dirty_data.xlsx')\n",
    "df.head()"
   ]
  },
  {
   "cell_type": "code",
   "execution_count": 71,
   "metadata": {},
   "outputs": [
    {
     "data": {
      "text/html": [
       "<div>\n",
       "<style scoped>\n",
       "    .dataframe tbody tr th:only-of-type {\n",
       "        vertical-align: middle;\n",
       "    }\n",
       "\n",
       "    .dataframe tbody tr th {\n",
       "        vertical-align: top;\n",
       "    }\n",
       "\n",
       "    .dataframe thead th {\n",
       "        text-align: right;\n",
       "    }\n",
       "</style>\n",
       "<table border=\"1\" class=\"dataframe\">\n",
       "  <thead>\n",
       "    <tr style=\"text-align: right;\">\n",
       "      <th></th>\n",
       "      <th>first_name</th>\n",
       "      <th>last_name</th>\n",
       "      <th>employee_status</th>\n",
       "      <th>subject</th>\n",
       "      <th>hire_date</th>\n",
       "      <th>percentage_allocated</th>\n",
       "      <th>full_time</th>\n",
       "      <th>certification</th>\n",
       "      <th>gratitude_points</th>\n",
       "      <th>gratitude_points_log</th>\n",
       "    </tr>\n",
       "  </thead>\n",
       "  <tbody>\n",
       "    <tr>\n",
       "      <td>0</td>\n",
       "      <td>Jason</td>\n",
       "      <td>Bourne</td>\n",
       "      <td>Teacher</td>\n",
       "      <td>PE</td>\n",
       "      <td>2008-08-30</td>\n",
       "      <td>0.75</td>\n",
       "      <td>Yes</td>\n",
       "      <td>Physical ed</td>\n",
       "      <td>10</td>\n",
       "      <td>1.000000</td>\n",
       "    </tr>\n",
       "    <tr>\n",
       "      <td>1</td>\n",
       "      <td>Jason</td>\n",
       "      <td>Bourne</td>\n",
       "      <td>Teacher</td>\n",
       "      <td>Drafting</td>\n",
       "      <td>2008-08-30</td>\n",
       "      <td>0.25</td>\n",
       "      <td>Yes</td>\n",
       "      <td>Physical ed</td>\n",
       "      <td>50</td>\n",
       "      <td>1.698970</td>\n",
       "    </tr>\n",
       "    <tr>\n",
       "      <td>2</td>\n",
       "      <td>Alicia</td>\n",
       "      <td>Keys</td>\n",
       "      <td>Teacher</td>\n",
       "      <td>Music</td>\n",
       "      <td>2001-08-15</td>\n",
       "      <td>1.00</td>\n",
       "      <td>Yes</td>\n",
       "      <td>Instr. music</td>\n",
       "      <td>20</td>\n",
       "      <td>1.301030</td>\n",
       "    </tr>\n",
       "    <tr>\n",
       "      <td>3</td>\n",
       "      <td>Ada</td>\n",
       "      <td>Lovelace</td>\n",
       "      <td>Teacher</td>\n",
       "      <td>NaN</td>\n",
       "      <td>1975-05-01</td>\n",
       "      <td>1.00</td>\n",
       "      <td>Yes</td>\n",
       "      <td>PENDING</td>\n",
       "      <td>1000</td>\n",
       "      <td>3.000000</td>\n",
       "    </tr>\n",
       "    <tr>\n",
       "      <td>4</td>\n",
       "      <td>Desus</td>\n",
       "      <td>Nice</td>\n",
       "      <td>Administration</td>\n",
       "      <td>Dean</td>\n",
       "      <td>2013-06-06</td>\n",
       "      <td>1.00</td>\n",
       "      <td>Yes</td>\n",
       "      <td>PENDING</td>\n",
       "      <td>392</td>\n",
       "      <td>2.593286</td>\n",
       "    </tr>\n",
       "  </tbody>\n",
       "</table>\n",
       "</div>"
      ],
      "text/plain": [
       "  first_name last_name employee_status   subject  hire_date  \\\n",
       "0      Jason    Bourne         Teacher        PE 2008-08-30   \n",
       "1      Jason    Bourne         Teacher  Drafting 2008-08-30   \n",
       "2     Alicia      Keys         Teacher     Music 2001-08-15   \n",
       "3        Ada  Lovelace         Teacher       NaN 1975-05-01   \n",
       "4      Desus      Nice  Administration      Dean 2013-06-06   \n",
       "\n",
       "   percentage_allocated full_time certification  gratitude_points  \\\n",
       "0                  0.75       Yes   Physical ed                10   \n",
       "1                  0.25       Yes   Physical ed                50   \n",
       "2                  1.00       Yes  Instr. music                20   \n",
       "3                  1.00       Yes       PENDING              1000   \n",
       "4                  1.00       Yes       PENDING               392   \n",
       "\n",
       "   gratitude_points_log  \n",
       "0              1.000000  \n",
       "1              1.698970  \n",
       "2              1.301030  \n",
       "3              3.000000  \n",
       "4              2.593286  "
      ]
     },
     "execution_count": 71,
     "metadata": {},
     "output_type": "execute_result"
    }
   ],
   "source": [
    "import datetime as dt \n",
    "import numpy as np\n",
    "\n",
    "df = (\n",
    "    pd.read_excel('data/dirty_data.xlsx')\n",
    "    \n",
    "    # Remove the empty column and empty row\n",
    "    .drop(\"do not edit! --->\", axis=1).drop(7, axis=0)\n",
    "    .rename(\n",
    "        mapper={\n",
    "            \"First Name\": \"first_name\",\n",
    "            \"Last Name\": \"last_name\",\n",
    "            \"Employee Status\": \"employee_status\",\n",
    "            \"Subject\": \"subject\",\n",
    "            \"Hire Date\": \"hire_date\",\n",
    "            \"% Allocated\": \"percentage_allocated\",\n",
    "            \"Full time?\": \"full_time\",\n",
    "            \"Certification\": \"certification\",\n",
    "        },\n",
    "        axis=1\n",
    "    )\n",
    ")\n",
    "\n",
    "# Correct hire date.\n",
    "df[\"hire_date\"] = pd.TimedeltaIndex(df[\"hire_date\"], unit=\"d\") + dt.datetime(1899, 12, 30)\n",
    "\n",
    "# Squash certification columns\n",
    "df['certification'] = df['certification'].combine_first(df['Certification.1'])\n",
    "gratitude_points = [10, 50, 20, 1000, 392, 115, 12, 182, 1190, 582, 25, 317]\n",
    "df = (\n",
    "    df\n",
    "    .drop([\"Certification.1\", \"Certification.2\"], axis=1)\n",
    "    # Add gratidude points.\n",
    "    .assign(gratitude_points=gratitude_points)\n",
    ")\n",
    "\n",
    "# Log-transform gratitude points.\n",
    "df[\"gratitude_points_log\"] = df[\"gratitude_points\"].apply(np.log10)\n",
    "\n",
    "df.head()"
   ]
  },
  {
   "cell_type": "markdown",
   "metadata": {},
   "source": [
    "### The pyjanitor flavor simplifies Pandas' API for data cleaning."
   ]
  },
  {
   "cell_type": "code",
   "execution_count": 74,
   "metadata": {},
   "outputs": [
    {
     "data": {
      "text/html": [
       "<div>\n",
       "<style scoped>\n",
       "    .dataframe tbody tr th:only-of-type {\n",
       "        vertical-align: middle;\n",
       "    }\n",
       "\n",
       "    .dataframe tbody tr th {\n",
       "        vertical-align: top;\n",
       "    }\n",
       "\n",
       "    .dataframe thead th {\n",
       "        text-align: right;\n",
       "    }\n",
       "</style>\n",
       "<table border=\"1\" class=\"dataframe\">\n",
       "  <thead>\n",
       "    <tr style=\"text-align: right;\">\n",
       "      <th></th>\n",
       "      <th>first_name</th>\n",
       "      <th>last_name</th>\n",
       "      <th>employee_status</th>\n",
       "      <th>subject</th>\n",
       "      <th>hire_date</th>\n",
       "      <th>percent_allocated</th>\n",
       "      <th>full_time</th>\n",
       "      <th>certification</th>\n",
       "      <th>gratitude_points</th>\n",
       "      <th>gratitude_log</th>\n",
       "    </tr>\n",
       "  </thead>\n",
       "  <tbody>\n",
       "    <tr>\n",
       "      <td>0</td>\n",
       "      <td>Jason</td>\n",
       "      <td>Bourne</td>\n",
       "      <td>Teacher</td>\n",
       "      <td>PE</td>\n",
       "      <td>2008-08-30</td>\n",
       "      <td>0.75</td>\n",
       "      <td>Yes</td>\n",
       "      <td>Physical ed</td>\n",
       "      <td>10</td>\n",
       "      <td>1.000000</td>\n",
       "    </tr>\n",
       "    <tr>\n",
       "      <td>1</td>\n",
       "      <td>Jason</td>\n",
       "      <td>Bourne</td>\n",
       "      <td>Teacher</td>\n",
       "      <td>Drafting</td>\n",
       "      <td>2008-08-30</td>\n",
       "      <td>0.25</td>\n",
       "      <td>Yes</td>\n",
       "      <td>Physical ed</td>\n",
       "      <td>50</td>\n",
       "      <td>1.698970</td>\n",
       "    </tr>\n",
       "    <tr>\n",
       "      <td>2</td>\n",
       "      <td>Alicia</td>\n",
       "      <td>Keys</td>\n",
       "      <td>Teacher</td>\n",
       "      <td>Music</td>\n",
       "      <td>2001-08-15</td>\n",
       "      <td>1.00</td>\n",
       "      <td>Yes</td>\n",
       "      <td>Instr. music</td>\n",
       "      <td>20</td>\n",
       "      <td>1.301030</td>\n",
       "    </tr>\n",
       "    <tr>\n",
       "      <td>3</td>\n",
       "      <td>Ada</td>\n",
       "      <td>Lovelace</td>\n",
       "      <td>Teacher</td>\n",
       "      <td>NaN</td>\n",
       "      <td>1975-05-01</td>\n",
       "      <td>1.00</td>\n",
       "      <td>Yes</td>\n",
       "      <td>PENDING</td>\n",
       "      <td>1000</td>\n",
       "      <td>3.000000</td>\n",
       "    </tr>\n",
       "    <tr>\n",
       "      <td>4</td>\n",
       "      <td>Desus</td>\n",
       "      <td>Nice</td>\n",
       "      <td>Administration</td>\n",
       "      <td>Dean</td>\n",
       "      <td>2013-06-06</td>\n",
       "      <td>1.00</td>\n",
       "      <td>Yes</td>\n",
       "      <td>PENDING</td>\n",
       "      <td>392</td>\n",
       "      <td>2.593286</td>\n",
       "    </tr>\n",
       "  </tbody>\n",
       "</table>\n",
       "</div>"
      ],
      "text/plain": [
       "  first_name last_name employee_status   subject  hire_date  \\\n",
       "0      Jason    Bourne         Teacher        PE 2008-08-30   \n",
       "1      Jason    Bourne         Teacher  Drafting 2008-08-30   \n",
       "2     Alicia      Keys         Teacher     Music 2001-08-15   \n",
       "3        Ada  Lovelace         Teacher       NaN 1975-05-01   \n",
       "4      Desus      Nice  Administration      Dean 2013-06-06   \n",
       "\n",
       "   percent_allocated full_time certification  gratitude_points  gratitude_log  \n",
       "0               0.75       Yes   Physical ed                10       1.000000  \n",
       "1               0.25       Yes   Physical ed                50       1.698970  \n",
       "2               1.00       Yes  Instr. music                20       1.301030  \n",
       "3               1.00       Yes       PENDING              1000       3.000000  \n",
       "4               1.00       Yes       PENDING               392       2.593286  "
      ]
     },
     "execution_count": 74,
     "metadata": {},
     "output_type": "execute_result"
    }
   ],
   "source": [
    "import janitor\n",
    "\n",
    "df = (\n",
    "    pd.read_excel(\"data/dirty_data.xlsx\")\n",
    "    .remove_empty()\n",
    "    .clean_names(strip_underscores=True)\n",
    "    .coalesce([\"certification\", \"certification_1\"])\n",
    "    .convert_excel_date(\"hire_date\")\n",
    "    .rename_column(\"%_allocated\", \"percent_allocated\")\n",
    "    .add_column(\"gratitude_points\", gratitude_points)\n",
    "    .transform_column(\"gratitude_points\", np.log10, \"gratitude_log\")\n",
    ")\n",
    "df.head()"
   ]
  },
  {
   "cell_type": "markdown",
   "metadata": {},
   "source": [
    "## Conclusion (Part 1)\n",
    "\n",
    "Using pandas-flavor, you can write your own flavor of Pandas by **registering methods in a python module** (or package).\n",
    "\n",
    "You can easily make your flavor pip-installable.\n",
    "\n",
    "i.e. `pip install my_flavor`"
   ]
  },
  {
   "cell_type": "markdown",
   "metadata": {},
   "source": [
    "## Part 2: Accessor registration."
   ]
  },
  {
   "cell_type": "markdown",
   "metadata": {},
   "source": [
    "An **accessor** is an *object* attached to a DataFrame that can affect (i.e. mutate) that DataFrame."
   ]
  },
  {
   "cell_type": "markdown",
   "metadata": {},
   "source": [
    "## Start with a real life use-case: PhyloPandas"
   ]
  },
  {
   "cell_type": "markdown",
   "metadata": {},
   "source": [
    "In biology, we have all kinds of (non-sense) formats. For example, `fasta` is a common format for genomic sequence data. "
   ]
  },
  {
   "cell_type": "code",
   "execution_count": 1,
   "metadata": {},
   "outputs": [
    {
     "name": "stdout",
     "output_type": "stream",
     "text": [
      ">Q0E553_SFAVA/184-218\n",
      "KCIAFDK----ND-KINPFTGRPINENNDTYRMIYSMCHG\n",
      ">Q8QUQ5_ISKNN/123-157\n",
      "ACALYYD----DP-TVNPFTDEPLRRYSPIDDLLYRNCES\n",
      ">Q0E553_SFAVA/142-176\n",
      "YCTNFHR----DE-SRNPLTGKKLVPTSPIRKAWHKMCSG\n",
      ">Q8QUQ5_ISKNN/45-79\n",
      "LCAEYKR----SP-RYNPWTDRTLAPGSPKHNLISGMCGG\n",
      ">Q8QUQ6_ISKNN/37-75\n",
      "VCNDLALCSQHTD-TYNPWTDRALLPDSPVHDMIDYVCNT\n",
      ">019R_FRG3G/249-283\n",
      "VCERFAA----DP-TRNPVTGSPLSRNDPLYTDLMEICKG\n",
      ">019R_FRG3G/302-336\n",
      "TCEAFCR----DP-TRNPVTGQKMRRNGIEYQMFAEECDC\n",
      ">VF380_IIV6/7-45\n",
      "KCDEWEKIRLNSS-PKNPFTKRNVKKDGPTYKKIDLICKH\n",
      ">VF380_IIV3/8-47\n",
      "KCYEWDIAKKKSPLPKSPLTGRKLKQHGPTWKKITAECAT\n",
      ">VF378_IIV6/4-38\n",
      "KCSKWHE----QP-LINPLTNRKIKKNGPTYKELERECGP\n",
      ">O41158_PBCV1/63-96\n",
      "LCSKWKA----NP-LVNPATGRKIKKDGPVYEKIQKKCS-\n",
      ">019R_FRG3G/5-39\n",
      "YCDEFER----NP-TRNPRTGRTIKRGGPVFRALERECSD\n",
      ">019R_FRG3G/139-172\n",
      "-CPEFAR----DP-TRNPRTGRTIKRGGPTYRALEAECAD\n",
      ">VF232_IIV6/64-98\n",
      "ECEQWLA----NK-GINPRTGKAIKIGGPTYKKLEMECKE\n",
      ">Q0E553_SFAVA/60-94\n",
      "VCKKFLA----NK-TVSPYSGRPIKPGKKLYNDLEKHCSG\n",
      ">Q8QUQ5_ISKNN/164-198\n",
      "QCRAFEE----NP-DVNPNTGRRISPTGPIASSMRRRCMN\n",
      ">Q8QUQ5_ISKNN/7-42\n",
      "KCNQLRN----NRYTVNPVSNRAIAPRGDTANTLRRICEQ\n",
      ">Q0E553_SFAVA/14-48\n",
      "QCETFKR----NKQAVSPLTNCPIDKFGRTAARFRKECD-\n",
      "\n"
     ]
    }
   ],
   "source": [
    "with open('data/PF08793.fasta', 'r') as f:\n",
    "    print(f.read())"
   ]
  },
  {
   "cell_type": "markdown",
   "metadata": {},
   "source": [
    "I started by writing my own `read_` functions."
   ]
  },
  {
   "cell_type": "code",
   "execution_count": 1,
   "metadata": {},
   "outputs": [
    {
     "data": {
      "text/html": [
       "<div>\n",
       "<style scoped>\n",
       "    .dataframe tbody tr th:only-of-type {\n",
       "        vertical-align: middle;\n",
       "    }\n",
       "\n",
       "    .dataframe tbody tr th {\n",
       "        vertical-align: top;\n",
       "    }\n",
       "\n",
       "    .dataframe thead th {\n",
       "        text-align: right;\n",
       "    }\n",
       "</style>\n",
       "<table border=\"1\" class=\"dataframe\">\n",
       "  <thead>\n",
       "    <tr style=\"text-align: right;\">\n",
       "      <th></th>\n",
       "      <th>id</th>\n",
       "      <th>sequence</th>\n",
       "      <th>description</th>\n",
       "      <th>label</th>\n",
       "      <th>uid</th>\n",
       "    </tr>\n",
       "  </thead>\n",
       "  <tbody>\n",
       "    <tr>\n",
       "      <td>0</td>\n",
       "      <td>Q0E553_SFAVA/184-218</td>\n",
       "      <td>KCIAFDK----ND-KINPFTGRPINENNDTYRMIYSMCHG</td>\n",
       "      <td>Q0E553_SFAVA/184-218</td>\n",
       "      <td>Q0E553_SFAVA/184-218</td>\n",
       "      <td>pcU81Urx20</td>\n",
       "    </tr>\n",
       "    <tr>\n",
       "      <td>1</td>\n",
       "      <td>Q8QUQ5_ISKNN/123-157</td>\n",
       "      <td>ACALYYD----DP-TVNPFTDEPLRRYSPIDDLLYRNCES</td>\n",
       "      <td>Q8QUQ5_ISKNN/123-157</td>\n",
       "      <td>Q8QUQ5_ISKNN/123-157</td>\n",
       "      <td>DZIedQvu4D</td>\n",
       "    </tr>\n",
       "    <tr>\n",
       "      <td>2</td>\n",
       "      <td>Q0E553_SFAVA/142-176</td>\n",
       "      <td>YCTNFHR----DE-SRNPLTGKKLVPTSPIRKAWHKMCSG</td>\n",
       "      <td>Q0E553_SFAVA/142-176</td>\n",
       "      <td>Q0E553_SFAVA/142-176</td>\n",
       "      <td>7uixV5MipM</td>\n",
       "    </tr>\n",
       "    <tr>\n",
       "      <td>3</td>\n",
       "      <td>Q8QUQ5_ISKNN/45-79</td>\n",
       "      <td>LCAEYKR----SP-RYNPWTDRTLAPGSPKHNLISGMCGG</td>\n",
       "      <td>Q8QUQ5_ISKNN/45-79</td>\n",
       "      <td>Q8QUQ5_ISKNN/45-79</td>\n",
       "      <td>bPdJq9TB4B</td>\n",
       "    </tr>\n",
       "    <tr>\n",
       "      <td>4</td>\n",
       "      <td>Q8QUQ6_ISKNN/37-75</td>\n",
       "      <td>VCNDLALCSQHTD-TYNPWTDRALLPDSPVHDMIDYVCNT</td>\n",
       "      <td>Q8QUQ6_ISKNN/37-75</td>\n",
       "      <td>Q8QUQ6_ISKNN/37-75</td>\n",
       "      <td>d26jKIgCF9</td>\n",
       "    </tr>\n",
       "  </tbody>\n",
       "</table>\n",
       "</div>"
      ],
      "text/plain": [
       "                     id                                  sequence  \\\n",
       "0  Q0E553_SFAVA/184-218  KCIAFDK----ND-KINPFTGRPINENNDTYRMIYSMCHG   \n",
       "1  Q8QUQ5_ISKNN/123-157  ACALYYD----DP-TVNPFTDEPLRRYSPIDDLLYRNCES   \n",
       "2  Q0E553_SFAVA/142-176  YCTNFHR----DE-SRNPLTGKKLVPTSPIRKAWHKMCSG   \n",
       "3    Q8QUQ5_ISKNN/45-79  LCAEYKR----SP-RYNPWTDRTLAPGSPKHNLISGMCGG   \n",
       "4    Q8QUQ6_ISKNN/37-75  VCNDLALCSQHTD-TYNPWTDRALLPDSPVHDMIDYVCNT   \n",
       "\n",
       "            description                 label         uid  \n",
       "0  Q0E553_SFAVA/184-218  Q0E553_SFAVA/184-218  pcU81Urx20  \n",
       "1  Q8QUQ5_ISKNN/123-157  Q8QUQ5_ISKNN/123-157  DZIedQvu4D  \n",
       "2  Q0E553_SFAVA/142-176  Q0E553_SFAVA/142-176  7uixV5MipM  \n",
       "3    Q8QUQ5_ISKNN/45-79    Q8QUQ5_ISKNN/45-79  bPdJq9TB4B  \n",
       "4    Q8QUQ6_ISKNN/37-75    Q8QUQ6_ISKNN/37-75  d26jKIgCF9  "
      ]
     },
     "execution_count": 1,
     "metadata": {},
     "output_type": "execute_result"
    }
   ],
   "source": [
    "import phylopandas as ph\n",
    "\n",
    "df = ph.read_fasta('data/PF08793.fasta')\n",
    "df.head()"
   ]
  },
  {
   "cell_type": "markdown",
   "metadata": {},
   "source": [
    "But I couldn't write that DataFrame back out to biological data formats.\n",
    "\n",
    "So I wrote an *accessor* with custom write methods. "
   ]
  },
  {
   "cell_type": "code",
   "execution_count": 2,
   "metadata": {},
   "outputs": [
    {
     "name": "stdout",
     "output_type": "stream",
     "text": [
      ">Q0E553_SFAVA/184-218\n",
      "KCIAFDK----ND-KINPFTGRPINENNDTYRMIYSMCHG\n",
      ">Q8QUQ5_ISKNN/123-157\n",
      "ACALYYD----DP-TVNPFTDEPLRRYSPIDDLLYRNCES\n",
      ">Q0E553_SFAVA/142-176\n",
      "YCTNFHR----DE-SRNPLTGKKLVPTSPIRKAWHKMCSG\n",
      ">Q8QUQ5_ISKNN/45-79\n",
      "LCAEYKR----SP-RYNPWTDRTLAPGSPKHNLISGMCGG\n",
      ">Q8QUQ6_ISKNN/37-75\n",
      "VCNDLALCSQHTD-TYNPWTDRALLPDSPVHDMIDYVCNT\n",
      ">019R_FRG3G/249-283\n",
      "VCERFAA----DP-TRNPVTGSPLSRNDPLYTDLMEICKG\n",
      ">019R_FRG3G/302-336\n",
      "TCEAFCR----DP-TRNPVTGQKMRRNGIEYQMFAEECDC\n",
      ">VF380_IIV6/7-45\n",
      "KCDEWEKIRLNSS-PKNPFTKRNVKKDGPTYKKIDLICKH\n",
      ">VF380_IIV3/8-47\n",
      "KCYEWDIAKKKSPLPKSPLTGRKLKQHGPTWKKITAECAT\n",
      ">VF378_IIV6/4-38\n",
      "KCSKWHE----QP-LINPLTNRKIKKNGPTYKELERECGP\n",
      ">O41158_PBCV1/63-96\n",
      "LCSKWKA----NP-LVNPATGRKIKKDGPVYEKIQKKCS-\n",
      ">019R_FRG3G/5-39\n",
      "YCDEFER----NP-TRNPRTGRTIKRGGPVFRALERECSD\n",
      ">019R_FRG3G/139-172\n",
      "-CPEFAR----DP-TRNPRTGRTIKRGGPTYRALEAECAD\n",
      ">VF232_IIV6/64-98\n",
      "ECEQWLA----NK-GINPRTGKAIKIGGPTYKKLEMECKE\n",
      ">Q0E553_SFAVA/60-94\n",
      "VCKKFLA----NK-TVSPYSGRPIKPGKKLYNDLEKHCSG\n",
      ">Q8QUQ5_ISKNN/164-198\n",
      "QCRAFEE----NP-DVNPNTGRRISPTGPIASSMRRRCMN\n",
      ">Q8QUQ5_ISKNN/7-42\n",
      "KCNQLRN----NRYTVNPVSNRAIAPRGDTANTLRRICEQ\n",
      ">Q0E553_SFAVA/14-48\n",
      "QCETFKR----NKQAVSPLTNCPIDKFGRTAARFRKECD-\n",
      "\n"
     ]
    }
   ],
   "source": [
    "print(df.phylo.to_fasta(id_col='label'))"
   ]
  },
  {
   "cell_type": "markdown",
   "metadata": {},
   "source": [
    "The PhyloPandas flavor registers a `phylo` accessor on Pandas' DataFrame that include custom functions for biological data."
   ]
  },
  {
   "cell_type": "code",
   "execution_count": 3,
   "metadata": {},
   "outputs": [
    {
     "name": "stdout",
     "output_type": "stream",
     "text": [
      "to_clustal\n",
      "to_dendropy\n",
      "to_embl\n",
      "to_fasta\n",
      "to_fasta_twoline\n",
      "to_fastq\n",
      "to_newick\n",
      "to_nexus_seq\n",
      "to_nexus_tree\n",
      "to_phylip\n",
      "to_phylip_relaxed\n",
      "to_phylip_sequential\n",
      "to_swiss\n"
     ]
    }
   ],
   "source": [
    "accessor = df.phylo\n",
    "\n",
    "for item in dir(accessor):\n",
    "    if item[:2] == 'to':\n",
    "        print(item)"
   ]
  },
  {
   "cell_type": "markdown",
   "metadata": {},
   "source": [
    "Combining representations of data into a single DataFrame."
   ]
  },
  {
   "cell_type": "code",
   "execution_count": 4,
   "metadata": {},
   "outputs": [
    {
     "name": "stdout",
     "output_type": "stream",
     "text": [
      "(Q8QUQ5_ISKNN/45-79:0.38376442,Q8QUQ6_ISKNN/37-75:0.93473288,(Q8QUQ5_ISKNN/123-157:1.14582942,(Q0E553_SFAVA/142-176:0.94308689,(Q0E553_SFAVA/184-218:0.98977147,(Q0E553_SFAVA/60-94:0.95706148,(((019R_FRG3G/5-39:0.06723315,(019R_FRG3G/139-172:0.05690376,(019R_FRG3G/249-283:0.95772959,019R_FRG3G/302-336:0.58361302)2.745285:0.61968795)1.680162:0.12814819)8.545520:0.30724093,((VF232_IIV6/64-98:0.77338949,((VF380_IIV6/7-45:0.56133629,VF380_IIV3/8-47:0.64307079)7.484104:0.37367018,(VF378_IIV6/4-38:0.31530205,O41158_PBCV1/63-96:0.46076842)1.909391:0.20522645)0.218717:0.09388521)2.531435:0.20551347,Q0E553_SFAVA/14-48:1.58834786)0.265099:0.00027193)6.209727:0.37908212,(Q8QUQ5_ISKNN/164-198:0.63907222,Q8QUQ5_ISKNN/7-42:0.96743219)2.806276:0.362965)0.677978:0.20054193)0.718698:0.20642561)2.503850:0.27168922)1.162623:0.15868612)6.040602:0.48939921);\n",
      "\n"
     ]
    }
   ],
   "source": [
    "with open('data/PF08793.newick', 'r') as f:\n",
    "    print(f.read())"
   ]
  },
  {
   "cell_type": "code",
   "execution_count": 5,
   "metadata": {},
   "outputs": [
    {
     "data": {
      "application/javascript": [
       "const spec = {\"width\": 300, \"height\": 216, \"padding\": 5, \"autosize\": \"fit\", \"data\": [{\"name\": \"tree\", \"values\": [{\"type\": \"root\", \"id\": \"0\", \"parent\": null, \"length\": 0.0, \"label\": \"0\", \"distance\": 0.0, \"uid\": \"6nWPIcMqo6\"}, {\"type\": \"leaf\", \"id\": \"Q8QUQ5_ISKNN/45-79\", \"parent\": \"0\", \"length\": 0.38376442, \"label\": \"Q8QUQ5_ISKNN/45-79\", \"distance\": 0.38376442, \"uid\": \"b7JJeTxklK\"}, {\"type\": \"leaf\", \"id\": \"Q8QUQ6_ISKNN/37-75\", \"parent\": \"0\", \"length\": 0.93473288, \"label\": \"Q8QUQ6_ISKNN/37-75\", \"distance\": 0.93473288, \"uid\": \"tAzOWsknRC\"}, {\"type\": \"node\", \"id\": \"1\", \"parent\": \"0\", \"length\": 0.48939921, \"label\": \"1\", \"distance\": 0.48939921, \"uid\": \"XCk8Hx0gXK\"}, {\"type\": \"leaf\", \"id\": \"Q8QUQ5_ISKNN/123-157\", \"parent\": \"1\", \"length\": 1.14582942, \"label\": \"Q8QUQ5_ISKNN/123-157\", \"distance\": 1.63522863, \"uid\": \"1GPNrZR6CE\"}, {\"type\": \"node\", \"id\": \"2\", \"parent\": \"1\", \"length\": 0.15868612, \"label\": \"2\", \"distance\": 0.64808533, \"uid\": \"UnFyHXxyh0\"}, {\"type\": \"leaf\", \"id\": \"Q0E553_SFAVA/142-176\", \"parent\": \"2\", \"length\": 0.94308689, \"label\": \"Q0E553_SFAVA/142-176\", \"distance\": 1.59117222, \"uid\": \"VxN7CjXdQA\"}, {\"type\": \"node\", \"id\": \"3\", \"parent\": \"2\", \"length\": 0.27168922, \"label\": \"3\", \"distance\": 0.91977455, \"uid\": \"AmtTrkeNTY\"}, {\"type\": \"leaf\", \"id\": \"Q0E553_SFAVA/184-218\", \"parent\": \"3\", \"length\": 0.98977147, \"label\": \"Q0E553_SFAVA/184-218\", \"distance\": 1.90954602, \"uid\": \"cPakDRkYLR\"}, {\"type\": \"node\", \"id\": \"4\", \"parent\": \"3\", \"length\": 0.20642561, \"label\": \"4\", \"distance\": 1.12620016, \"uid\": \"ASRDXMIc97\"}, {\"type\": \"leaf\", \"id\": \"Q0E553_SFAVA/60-94\", \"parent\": \"4\", \"length\": 0.95706148, \"label\": \"Q0E553_SFAVA/60-94\", \"distance\": 2.08326164, \"uid\": \"Q2mc7ooekL\"}, {\"type\": \"node\", \"id\": \"5\", \"parent\": \"4\", \"length\": 0.20054193, \"label\": \"5\", \"distance\": 1.32674209, \"uid\": \"zWV2q22Ydl\"}, {\"type\": \"node\", \"id\": \"6\", \"parent\": \"5\", \"length\": 0.37908212, \"label\": \"6\", \"distance\": 1.70582421, \"uid\": \"dvPdCT42Pm\"}, {\"type\": \"node\", \"id\": \"7\", \"parent\": \"6\", \"length\": 0.30724093, \"label\": \"7\", \"distance\": 2.01306514, \"uid\": \"Szk1C2iaOK\"}, {\"type\": \"leaf\", \"id\": \"019R_FRG3G/5-39\", \"parent\": \"7\", \"length\": 0.06723315, \"label\": \"019R_FRG3G/5-39\", \"distance\": 2.08029829, \"uid\": \"0KfspQ5IEr\"}, {\"type\": \"node\", \"id\": \"8\", \"parent\": \"7\", \"length\": 0.12814819, \"label\": \"8\", \"distance\": 2.1412133300000002, \"uid\": \"pad10XsWLV\"}, {\"type\": \"leaf\", \"id\": \"019R_FRG3G/139-172\", \"parent\": \"8\", \"length\": 0.05690376, \"label\": \"019R_FRG3G/139-172\", \"distance\": 2.19811709, \"uid\": \"9HvNf6krY7\"}, {\"type\": \"node\", \"id\": \"9\", \"parent\": \"8\", \"length\": 0.61968795, \"label\": \"9\", \"distance\": 2.7609012799999997, \"uid\": \"OOWUqpagsd\"}, {\"type\": \"leaf\", \"id\": \"019R_FRG3G/249-283\", \"parent\": \"9\", \"length\": 0.95772959, \"label\": \"019R_FRG3G/249-283\", \"distance\": 3.71863087, \"uid\": \"7XMfkCABtH\"}, {\"type\": \"leaf\", \"id\": \"019R_FRG3G/302-336\", \"parent\": \"9\", \"length\": 0.58361302, \"label\": \"019R_FRG3G/302-336\", \"distance\": 3.3445143, \"uid\": \"T2oeEVoJTi\"}, {\"type\": \"node\", \"id\": \"10\", \"parent\": \"6\", \"length\": 0.00027193, \"label\": \"10\", \"distance\": 1.70609614, \"uid\": \"ANhjOlZeDZ\"}, {\"type\": \"node\", \"id\": \"11\", \"parent\": \"10\", \"length\": 0.20551347, \"label\": \"11\", \"distance\": 1.91160961, \"uid\": \"ZwkTEDGo28\"}, {\"type\": \"leaf\", \"id\": \"VF232_IIV6/64-98\", \"parent\": \"11\", \"length\": 0.77338949, \"label\": \"VF232_IIV6/64-98\", \"distance\": 2.6849990999999997, \"uid\": \"bYyATL74hS\"}, {\"type\": \"node\", \"id\": \"12\", \"parent\": \"11\", \"length\": 0.09388521, \"label\": \"12\", \"distance\": 2.00549482, \"uid\": \"z6Dh6zFzfO\"}, {\"type\": \"node\", \"id\": \"13\", \"parent\": \"12\", \"length\": 0.37367018, \"label\": \"13\", \"distance\": 2.379165, \"uid\": \"yMh12tzI8I\"}, {\"type\": \"leaf\", \"id\": \"VF380_IIV6/7-45\", \"parent\": \"13\", \"length\": 0.56133629, \"label\": \"VF380_IIV6/7-45\", \"distance\": 2.9405012900000003, \"uid\": \"Wc3d5j21iB\"}, {\"type\": \"leaf\", \"id\": \"VF380_IIV3/8-47\", \"parent\": \"13\", \"length\": 0.64307079, \"label\": \"VF380_IIV3/8-47\", \"distance\": 3.02223579, \"uid\": \"UiAXrlPfjs\"}, {\"type\": \"node\", \"id\": \"14\", \"parent\": \"12\", \"length\": 0.20522645, \"label\": \"14\", \"distance\": 2.21072127, \"uid\": \"Iy5l25C5Zs\"}, {\"type\": \"leaf\", \"id\": \"VF378_IIV6/4-38\", \"parent\": \"14\", \"length\": 0.31530205, \"label\": \"VF378_IIV6/4-38\", \"distance\": 2.52602332, \"uid\": \"2sOSO1Vk4R\"}, {\"type\": \"leaf\", \"id\": \"O41158_PBCV1/63-96\", \"parent\": \"14\", \"length\": 0.46076842, \"label\": \"O41158_PBCV1/63-96\", \"distance\": 2.6714896899999996, \"uid\": \"ZXrLk46Suq\"}, {\"type\": \"leaf\", \"id\": \"Q0E553_SFAVA/14-48\", \"parent\": \"10\", \"length\": 1.58834786, \"label\": \"Q0E553_SFAVA/14-48\", \"distance\": 3.2944440000000004, \"uid\": \"tpncPre2t7\"}, {\"type\": \"node\", \"id\": \"15\", \"parent\": \"5\", \"length\": 0.362965, \"label\": \"15\", \"distance\": 1.68970709, \"uid\": \"6mkYkkccaY\"}, {\"type\": \"leaf\", \"id\": \"Q8QUQ5_ISKNN/164-198\", \"parent\": \"15\", \"length\": 0.63907222, \"label\": \"Q8QUQ5_ISKNN/164-198\", \"distance\": 2.32877931, \"uid\": \"Af3lNUGmZm\"}, {\"type\": \"leaf\", \"id\": \"Q8QUQ5_ISKNN/7-42\", \"parent\": \"15\", \"length\": 0.96743219, \"label\": \"Q8QUQ5_ISKNN/7-42\", \"distance\": 2.65713928, \"uid\": \"rsFWnew2yi\"}], \"transform\": [{\"type\": \"stratify\", \"parentKey\": \"parent\", \"key\": \"id\"}, {\"type\": \"tree\", \"method\": \"cluster\", \"size\": [216, 300], \"as\": [\"y0\", \"x0\", \"depth0\", \"children0\"]}, {\"type\": \"tree\", \"method\": \"cluster\", \"size\": [216, 300], \"as\": [\"y\", \"x\", \"depth\", \"children\"]}, {\"type\": \"formula\", \"expr\": \"0.8 * datum.distance * 80\", \"as\": \"x\"}]}, {\"name\": \"links\", \"source\": \"tree\", \"transform\": [{\"type\": \"treelinks\", \"key\": \"id\"}, {\"type\": \"linkpath\", \"orient\": \"horizontal\", \"shape\": \"orthogonal\"}]}, {\"name\": \"nodes\", \"source\": \"tree\", \"transform\": [{\"type\": \"filter\", \"expr\": \"datum.type == \\\"node\\\"\"}]}, {\"name\": \"leaves\", \"source\": \"tree\", \"transform\": [{\"type\": \"filter\", \"expr\": \"datum.type == \\\"leaf\\\"\"}]}], \"marks\": [{\"type\": \"path\", \"from\": {\"data\": \"links\"}, \"encode\": {\"update\": {\"path\": {\"field\": \"path\"}, \"stroke\": {\"value\": \"#ccc\"}, \"strokeWidth\": {\"value\": 2}}}}, {\"type\": \"symbol\", \"from\": {\"data\": \"leaves\"}, \"encode\": {\"enter\": {\"fill\": {\"value\": \"#000\"}, \"stroke\": {\"value\": \"#000\"}}, \"update\": {\"x\": {\"field\": \"x\"}, \"y\": {\"field\": \"y\"}, \"size\": {\"value\": 0}, \"strokeWidth\": {\"value\": 1}}}}, {\"type\": \"symbol\", \"from\": {\"data\": \"nodes\"}, \"encode\": {\"enter\": {\"stroke\": {\"value\": \"#000\"}}, \"update\": {\"fill\": {\"value\": \"#000\"}, \"x\": {\"field\": \"x\"}, \"y\": {\"field\": \"y\"}, \"size\": {\"value\": 50}, \"strokeWidth\": {\"value\": 1}}}}, {\"type\": \"text\", \"from\": {\"data\": \"leaves\"}, \"encode\": {\"enter\": {\"fill\": {\"value\": \"#000\"}, \"text\": {\"field\": \"id\"}}, \"update\": {\"fontSize\": {\"value\": 10}, \"x\": {\"field\": \"x\"}, \"y\": {\"field\": \"y\"}, \"dx\": {\"value\": 4}, \"dy\": {\"value\": 3}}}}, {\"type\": \"text\", \"from\": {\"data\": \"nodes\"}, \"encode\": {\"enter\": {\"fill\": {\"value\": \"#000\"}, \"text\": {\"field\": \"id\"}}, \"update\": {\"fontSize\": {\"value\": 10}, \"x\": {\"field\": \"x\"}, \"y\": {\"field\": \"y\"}, \"dx\": {\"value\": 4}, \"dy\": {\"value\": 3}}}}], \"signals\": []};\n",
       "const opt = {};\n",
       "const type = \"vega\";\n",
       "const id = \"5ea4a7ce-1ec7-485e-99c7-96d756fa2c70\";\n",
       "\n",
       "const output_area = this;\n",
       "\n",
       "require([\"nbextensions/jupyter-vega/index\"], function(vega) {\n",
       "  const target = document.createElement(\"div\");\n",
       "  target.id = id;\n",
       "  target.className = \"vega-embed\";\n",
       "\n",
       "  const style = document.createElement(\"style\");\n",
       "  style.textContent = [\n",
       "    \".vega-embed .error p {\",\n",
       "    \"  color: firebrick;\",\n",
       "    \"  font-size: 14px;\",\n",
       "    \"}\",\n",
       "  ].join(\"\\\\n\");\n",
       "\n",
       "  // element is a jQuery wrapped DOM element inside the output area\n",
       "  // see http://ipython.readthedocs.io/en/stable/api/generated/\\\n",
       "  // IPython.display.html#IPython.display.Javascript.__init__\n",
       "  element[0].appendChild(target);\n",
       "  element[0].appendChild(style);\n",
       "\n",
       "  vega.render(\"#\" + id, spec, type, opt, output_area);\n",
       "}, function (err) {\n",
       "  if (err.requireType !== \"scripterror\") {\n",
       "    throw(err);\n",
       "  }\n",
       "});\n"
      ],
      "text/plain": [
       "<phylovega.app.TreeChart at 0x1137250d0>"
      ]
     },
     "execution_count": 5,
     "metadata": {
      "jupyter-vega": "#5ea4a7ce-1ec7-485e-99c7-96d756fa2c70"
     },
     "output_type": "execute_result"
    },
    {
     "data": {
      "image/png": "[encoded data removed]"
     },
     "metadata": {
      "jupyter-vega": "#5ea4a7ce-1ec7-485e-99c7-96d756fa2c70"
     },
     "output_type": "display_data"
    }
   ],
   "source": [
    "from phylovega import TreeChart\n",
    "\n",
    "TreeChart.from_newick('data/PF08793.newick')"
   ]
  },
  {
   "cell_type": "markdown",
   "metadata": {},
   "source": [
    "The PhyloPandas flavor has some clever logic to merge two data formats in a single DataFrame."
   ]
  },
  {
   "cell_type": "code",
   "execution_count": 8,
   "metadata": {},
   "outputs": [
    {
     "data": {
      "text/html": [
       "<div>\n",
       "<style scoped>\n",
       "    .dataframe tbody tr th:only-of-type {\n",
       "        vertical-align: middle;\n",
       "    }\n",
       "\n",
       "    .dataframe tbody tr th {\n",
       "        vertical-align: top;\n",
       "    }\n",
       "\n",
       "    .dataframe thead th {\n",
       "        text-align: right;\n",
       "    }\n",
       "</style>\n",
       "<table border=\"1\" class=\"dataframe\">\n",
       "  <thead>\n",
       "    <tr style=\"text-align: right;\">\n",
       "      <th></th>\n",
       "      <th>id</th>\n",
       "      <th>sequence</th>\n",
       "      <th>description</th>\n",
       "      <th>label</th>\n",
       "      <th>uid</th>\n",
       "      <th>type</th>\n",
       "      <th>parent</th>\n",
       "      <th>length</th>\n",
       "      <th>distance</th>\n",
       "    </tr>\n",
       "  </thead>\n",
       "  <tbody>\n",
       "    <tr>\n",
       "      <td>0</td>\n",
       "      <td>Q0E553_SFAVA/184-218</td>\n",
       "      <td>KCIAFDK----ND-KINPFTGRPINENNDTYRMIYSMCHG</td>\n",
       "      <td>Q0E553_SFAVA/184-218</td>\n",
       "      <td>Q0E553_SFAVA/184-218</td>\n",
       "      <td>TtW1BnkTvj</td>\n",
       "      <td>leaf</td>\n",
       "      <td>3</td>\n",
       "      <td>0.989771</td>\n",
       "      <td>1.90955</td>\n",
       "    </tr>\n",
       "    <tr>\n",
       "      <td>1</td>\n",
       "      <td>Q8QUQ5_ISKNN/123-157</td>\n",
       "      <td>ACALYYD----DP-TVNPFTDEPLRRYSPIDDLLYRNCES</td>\n",
       "      <td>Q8QUQ5_ISKNN/123-157</td>\n",
       "      <td>Q8QUQ5_ISKNN/123-157</td>\n",
       "      <td>q3Hl8FAZGA</td>\n",
       "      <td>leaf</td>\n",
       "      <td>1</td>\n",
       "      <td>1.14583</td>\n",
       "      <td>1.63523</td>\n",
       "    </tr>\n",
       "    <tr>\n",
       "      <td>2</td>\n",
       "      <td>Q0E553_SFAVA/142-176</td>\n",
       "      <td>YCTNFHR----DE-SRNPLTGKKLVPTSPIRKAWHKMCSG</td>\n",
       "      <td>Q0E553_SFAVA/142-176</td>\n",
       "      <td>Q0E553_SFAVA/142-176</td>\n",
       "      <td>Cn42aDD8NC</td>\n",
       "      <td>leaf</td>\n",
       "      <td>2</td>\n",
       "      <td>0.943087</td>\n",
       "      <td>1.59117</td>\n",
       "    </tr>\n",
       "    <tr>\n",
       "      <td>3</td>\n",
       "      <td>Q8QUQ5_ISKNN/45-79</td>\n",
       "      <td>LCAEYKR----SP-RYNPWTDRTLAPGSPKHNLISGMCGG</td>\n",
       "      <td>Q8QUQ5_ISKNN/45-79</td>\n",
       "      <td>Q8QUQ5_ISKNN/45-79</td>\n",
       "      <td>5T3jZDdx34</td>\n",
       "      <td>leaf</td>\n",
       "      <td>0</td>\n",
       "      <td>0.383764</td>\n",
       "      <td>0.383764</td>\n",
       "    </tr>\n",
       "    <tr>\n",
       "      <td>4</td>\n",
       "      <td>Q8QUQ6_ISKNN/37-75</td>\n",
       "      <td>VCNDLALCSQHTD-TYNPWTDRALLPDSPVHDMIDYVCNT</td>\n",
       "      <td>Q8QUQ6_ISKNN/37-75</td>\n",
       "      <td>Q8QUQ6_ISKNN/37-75</td>\n",
       "      <td>XukasPxu5F</td>\n",
       "      <td>leaf</td>\n",
       "      <td>0</td>\n",
       "      <td>0.934733</td>\n",
       "      <td>0.934733</td>\n",
       "    </tr>\n",
       "  </tbody>\n",
       "</table>\n",
       "</div>"
      ],
      "text/plain": [
       "                     id                                  sequence  \\\n",
       "0  Q0E553_SFAVA/184-218  KCIAFDK----ND-KINPFTGRPINENNDTYRMIYSMCHG   \n",
       "1  Q8QUQ5_ISKNN/123-157  ACALYYD----DP-TVNPFTDEPLRRYSPIDDLLYRNCES   \n",
       "2  Q0E553_SFAVA/142-176  YCTNFHR----DE-SRNPLTGKKLVPTSPIRKAWHKMCSG   \n",
       "3    Q8QUQ5_ISKNN/45-79  LCAEYKR----SP-RYNPWTDRTLAPGSPKHNLISGMCGG   \n",
       "4    Q8QUQ6_ISKNN/37-75  VCNDLALCSQHTD-TYNPWTDRALLPDSPVHDMIDYVCNT   \n",
       "\n",
       "            description                 label         uid  type parent  \\\n",
       "0  Q0E553_SFAVA/184-218  Q0E553_SFAVA/184-218  TtW1BnkTvj  leaf      3   \n",
       "1  Q8QUQ5_ISKNN/123-157  Q8QUQ5_ISKNN/123-157  q3Hl8FAZGA  leaf      1   \n",
       "2  Q0E553_SFAVA/142-176  Q0E553_SFAVA/142-176  Cn42aDD8NC  leaf      2   \n",
       "3    Q8QUQ5_ISKNN/45-79    Q8QUQ5_ISKNN/45-79  5T3jZDdx34  leaf      0   \n",
       "4    Q8QUQ6_ISKNN/37-75    Q8QUQ6_ISKNN/37-75  XukasPxu5F  leaf      0   \n",
       "\n",
       "     length  distance  \n",
       "0  0.989771   1.90955  \n",
       "1   1.14583   1.63523  \n",
       "2  0.943087   1.59117  \n",
       "3  0.383764  0.383764  \n",
       "4  0.934733  0.934733  "
      ]
     },
     "execution_count": 8,
     "metadata": {},
     "output_type": "execute_result"
    }
   ],
   "source": [
    "df = df.phylo.read_newick('data/PF08793.newick', combine_on='id')\n",
    "df.head()"
   ]
  },
  {
   "cell_type": "markdown",
   "metadata": {},
   "source": [
    "Don't forget, we still get all of Pandas!"
   ]
  },
  {
   "cell_type": "code",
   "execution_count": 12,
   "metadata": {},
   "outputs": [
    {
     "data": {
      "text/html": [
       "<div>\n",
       "<style scoped>\n",
       "    .dataframe tbody tr th:only-of-type {\n",
       "        vertical-align: middle;\n",
       "    }\n",
       "\n",
       "    .dataframe tbody tr th {\n",
       "        vertical-align: top;\n",
       "    }\n",
       "\n",
       "    .dataframe thead th {\n",
       "        text-align: right;\n",
       "    }\n",
       "</style>\n",
       "<table border=\"1\" class=\"dataframe\">\n",
       "  <thead>\n",
       "    <tr style=\"text-align: right;\">\n",
       "      <th></th>\n",
       "      <th>id</th>\n",
       "      <th>sequence</th>\n",
       "      <th>description</th>\n",
       "      <th>label</th>\n",
       "      <th>uid</th>\n",
       "      <th>type</th>\n",
       "      <th>parent</th>\n",
       "      <th>length</th>\n",
       "      <th>distance</th>\n",
       "    </tr>\n",
       "  </thead>\n",
       "  <tbody>\n",
       "    <tr>\n",
       "      <td>0</td>\n",
       "      <td>Q0E553_SFAVA/184-218</td>\n",
       "      <td>KCIAFDK----ND-KINPFTGRPINENNDTYRMIYSMCHG</td>\n",
       "      <td>Q0E553_SFAVA/184-218</td>\n",
       "      <td>Q0E553_SFAVA/184-218</td>\n",
       "      <td>TtW1BnkTvj</td>\n",
       "      <td>leaf</td>\n",
       "      <td>3</td>\n",
       "      <td>0.989771</td>\n",
       "      <td>1.90955</td>\n",
       "    </tr>\n",
       "    <tr>\n",
       "      <td>1</td>\n",
       "      <td>Q8QUQ5_ISKNN/123-157</td>\n",
       "      <td>ACALYYD----DP-TVNPFTDEPLRRYSPIDDLLYRNCES</td>\n",
       "      <td>Q8QUQ5_ISKNN/123-157</td>\n",
       "      <td>Q8QUQ5_ISKNN/123-157</td>\n",
       "      <td>q3Hl8FAZGA</td>\n",
       "      <td>leaf</td>\n",
       "      <td>1</td>\n",
       "      <td>1.14583</td>\n",
       "      <td>1.63523</td>\n",
       "    </tr>\n",
       "    <tr>\n",
       "      <td>2</td>\n",
       "      <td>Q0E553_SFAVA/142-176</td>\n",
       "      <td>YCTNFHR----DE-SRNPLTGKKLVPTSPIRKAWHKMCSG</td>\n",
       "      <td>Q0E553_SFAVA/142-176</td>\n",
       "      <td>Q0E553_SFAVA/142-176</td>\n",
       "      <td>Cn42aDD8NC</td>\n",
       "      <td>leaf</td>\n",
       "      <td>2</td>\n",
       "      <td>0.943087</td>\n",
       "      <td>1.59117</td>\n",
       "    </tr>\n",
       "    <tr>\n",
       "      <td>4</td>\n",
       "      <td>Q8QUQ6_ISKNN/37-75</td>\n",
       "      <td>VCNDLALCSQHTD-TYNPWTDRALLPDSPVHDMIDYVCNT</td>\n",
       "      <td>Q8QUQ6_ISKNN/37-75</td>\n",
       "      <td>Q8QUQ6_ISKNN/37-75</td>\n",
       "      <td>XukasPxu5F</td>\n",
       "      <td>leaf</td>\n",
       "      <td>0</td>\n",
       "      <td>0.934733</td>\n",
       "      <td>0.934733</td>\n",
       "    </tr>\n",
       "    <tr>\n",
       "      <td>5</td>\n",
       "      <td>019R_FRG3G/249-283</td>\n",
       "      <td>VCERFAA----DP-TRNPVTGSPLSRNDPLYTDLMEICKG</td>\n",
       "      <td>019R_FRG3G/249-283</td>\n",
       "      <td>019R_FRG3G/249-283</td>\n",
       "      <td>IZv73osVf3</td>\n",
       "      <td>leaf</td>\n",
       "      <td>9</td>\n",
       "      <td>0.95773</td>\n",
       "      <td>3.71863</td>\n",
       "    </tr>\n",
       "    <tr>\n",
       "      <td>14</td>\n",
       "      <td>Q0E553_SFAVA/60-94</td>\n",
       "      <td>VCKKFLA----NK-TVSPYSGRPIKPGKKLYNDLEKHCSG</td>\n",
       "      <td>Q0E553_SFAVA/60-94</td>\n",
       "      <td>Q0E553_SFAVA/60-94</td>\n",
       "      <td>W1G9zOfUXZ</td>\n",
       "      <td>leaf</td>\n",
       "      <td>4</td>\n",
       "      <td>0.957061</td>\n",
       "      <td>2.08326</td>\n",
       "    </tr>\n",
       "    <tr>\n",
       "      <td>16</td>\n",
       "      <td>Q8QUQ5_ISKNN/7-42</td>\n",
       "      <td>KCNQLRN----NRYTVNPVSNRAIAPRGDTANTLRRICEQ</td>\n",
       "      <td>Q8QUQ5_ISKNN/7-42</td>\n",
       "      <td>Q8QUQ5_ISKNN/7-42</td>\n",
       "      <td>NfPy0twmjS</td>\n",
       "      <td>leaf</td>\n",
       "      <td>15</td>\n",
       "      <td>0.967432</td>\n",
       "      <td>2.65714</td>\n",
       "    </tr>\n",
       "    <tr>\n",
       "      <td>17</td>\n",
       "      <td>Q0E553_SFAVA/14-48</td>\n",
       "      <td>QCETFKR----NKQAVSPLTNCPIDKFGRTAARFRKECD-</td>\n",
       "      <td>Q0E553_SFAVA/14-48</td>\n",
       "      <td>Q0E553_SFAVA/14-48</td>\n",
       "      <td>EzDPOT93RZ</td>\n",
       "      <td>leaf</td>\n",
       "      <td>10</td>\n",
       "      <td>1.58835</td>\n",
       "      <td>3.29444</td>\n",
       "    </tr>\n",
       "  </tbody>\n",
       "</table>\n",
       "</div>"
      ],
      "text/plain": [
       "                      id                                  sequence  \\\n",
       "0   Q0E553_SFAVA/184-218  KCIAFDK----ND-KINPFTGRPINENNDTYRMIYSMCHG   \n",
       "1   Q8QUQ5_ISKNN/123-157  ACALYYD----DP-TVNPFTDEPLRRYSPIDDLLYRNCES   \n",
       "2   Q0E553_SFAVA/142-176  YCTNFHR----DE-SRNPLTGKKLVPTSPIRKAWHKMCSG   \n",
       "4     Q8QUQ6_ISKNN/37-75  VCNDLALCSQHTD-TYNPWTDRALLPDSPVHDMIDYVCNT   \n",
       "5     019R_FRG3G/249-283  VCERFAA----DP-TRNPVTGSPLSRNDPLYTDLMEICKG   \n",
       "14    Q0E553_SFAVA/60-94  VCKKFLA----NK-TVSPYSGRPIKPGKKLYNDLEKHCSG   \n",
       "16     Q8QUQ5_ISKNN/7-42  KCNQLRN----NRYTVNPVSNRAIAPRGDTANTLRRICEQ   \n",
       "17    Q0E553_SFAVA/14-48  QCETFKR----NKQAVSPLTNCPIDKFGRTAARFRKECD-   \n",
       "\n",
       "             description                 label         uid  type parent  \\\n",
       "0   Q0E553_SFAVA/184-218  Q0E553_SFAVA/184-218  TtW1BnkTvj  leaf      3   \n",
       "1   Q8QUQ5_ISKNN/123-157  Q8QUQ5_ISKNN/123-157  q3Hl8FAZGA  leaf      1   \n",
       "2   Q0E553_SFAVA/142-176  Q0E553_SFAVA/142-176  Cn42aDD8NC  leaf      2   \n",
       "4     Q8QUQ6_ISKNN/37-75    Q8QUQ6_ISKNN/37-75  XukasPxu5F  leaf      0   \n",
       "5     019R_FRG3G/249-283    019R_FRG3G/249-283  IZv73osVf3  leaf      9   \n",
       "14    Q0E553_SFAVA/60-94    Q0E553_SFAVA/60-94  W1G9zOfUXZ  leaf      4   \n",
       "16     Q8QUQ5_ISKNN/7-42     Q8QUQ5_ISKNN/7-42  NfPy0twmjS  leaf     15   \n",
       "17    Q0E553_SFAVA/14-48    Q0E553_SFAVA/14-48  EzDPOT93RZ  leaf     10   \n",
       "\n",
       "      length  distance  \n",
       "0   0.989771   1.90955  \n",
       "1    1.14583   1.63523  \n",
       "2   0.943087   1.59117  \n",
       "4   0.934733  0.934733  \n",
       "5    0.95773   3.71863  \n",
       "14  0.957061   2.08326  \n",
       "16  0.967432   2.65714  \n",
       "17   1.58835   3.29444  "
      ]
     },
     "execution_count": 12,
     "metadata": {},
     "output_type": "execute_result"
    }
   ],
   "source": [
    "df[df.length > 0.8]"
   ]
  },
  {
   "cell_type": "markdown",
   "metadata": {},
   "source": [
    "And just for fun, we added a simple `.display` method for showing the data."
   ]
  },
  {
   "cell_type": "code",
   "execution_count": 7,
   "metadata": {
    "scrolled": true
   },
   "outputs": [
    {
     "data": {
      "application/javascript": [
       "const spec = {\"width\": 300, \"height\": 216, \"padding\": 5, \"autosize\": \"fit\", \"data\": [{\"name\": \"tree\", \"values\": [{\"id\": \"Q0E553_SFAVA/184-218\", \"sequence\": \"KCIAFDK----ND-KINPFTGRPINENNDTYRMIYSMCHG\", \"description\": \"Q0E553_SFAVA/184-218\", \"label\": \"Q0E553_SFAVA/184-218\", \"uid\": \"5mIHDiGuyN\", \"type\": \"leaf\", \"parent\": \"3\", \"length\": 0.98977147, \"distance\": 1.90954602}, {\"id\": \"Q8QUQ5_ISKNN/123-157\", \"sequence\": \"ACALYYD----DP-TVNPFTDEPLRRYSPIDDLLYRNCES\", \"description\": \"Q8QUQ5_ISKNN/123-157\", \"label\": \"Q8QUQ5_ISKNN/123-157\", \"uid\": \"7KR1KILJHk\", \"type\": \"leaf\", \"parent\": \"1\", \"length\": 1.14582942, \"distance\": 1.63522863}, {\"id\": \"Q0E553_SFAVA/142-176\", \"sequence\": \"YCTNFHR----DE-SRNPLTGKKLVPTSPIRKAWHKMCSG\", \"description\": \"Q0E553_SFAVA/142-176\", \"label\": \"Q0E553_SFAVA/142-176\", \"uid\": \"5jsu5H5iqz\", \"type\": \"leaf\", \"parent\": \"2\", \"length\": 0.94308689, \"distance\": 1.59117222}, {\"id\": \"Q8QUQ5_ISKNN/45-79\", \"sequence\": \"LCAEYKR----SP-RYNPWTDRTLAPGSPKHNLISGMCGG\", \"description\": \"Q8QUQ5_ISKNN/45-79\", \"label\": \"Q8QUQ5_ISKNN/45-79\", \"uid\": \"PBb7j5ItLX\", \"type\": \"leaf\", \"parent\": \"0\", \"length\": 0.38376442, \"distance\": 0.38376442}, {\"id\": \"Q8QUQ6_ISKNN/37-75\", \"sequence\": \"VCNDLALCSQHTD-TYNPWTDRALLPDSPVHDMIDYVCNT\", \"description\": \"Q8QUQ6_ISKNN/37-75\", \"label\": \"Q8QUQ6_ISKNN/37-75\", \"uid\": \"S1nlubllrf\", \"type\": \"leaf\", \"parent\": \"0\", \"length\": 0.93473288, \"distance\": 0.93473288}, {\"id\": \"019R_FRG3G/249-283\", \"sequence\": \"VCERFAA----DP-TRNPVTGSPLSRNDPLYTDLMEICKG\", \"description\": \"019R_FRG3G/249-283\", \"label\": \"019R_FRG3G/249-283\", \"uid\": \"RSiIwJitPp\", \"type\": \"leaf\", \"parent\": \"9\", \"length\": 0.95772959, \"distance\": 3.71863087}, {\"id\": \"019R_FRG3G/302-336\", \"sequence\": \"TCEAFCR----DP-TRNPVTGQKMRRNGIEYQMFAEECDC\", \"description\": \"019R_FRG3G/302-336\", \"label\": \"019R_FRG3G/302-336\", \"uid\": \"REqZv1wRZo\", \"type\": \"leaf\", \"parent\": \"9\", \"length\": 0.58361302, \"distance\": 3.3445143}, {\"id\": \"VF380_IIV6/7-45\", \"sequence\": \"KCDEWEKIRLNSS-PKNPFTKRNVKKDGPTYKKIDLICKH\", \"description\": \"VF380_IIV6/7-45\", \"label\": \"VF380_IIV6/7-45\", \"uid\": \"sdjmKM5Cs3\", \"type\": \"leaf\", \"parent\": \"13\", \"length\": 0.56133629, \"distance\": 2.9405012900000003}, {\"id\": \"VF380_IIV3/8-47\", \"sequence\": \"KCYEWDIAKKKSPLPKSPLTGRKLKQHGPTWKKITAECAT\", \"description\": \"VF380_IIV3/8-47\", \"label\": \"VF380_IIV3/8-47\", \"uid\": \"olQm2SU6B3\", \"type\": \"leaf\", \"parent\": \"13\", \"length\": 0.64307079, \"distance\": 3.02223579}, {\"id\": \"VF378_IIV6/4-38\", \"sequence\": \"KCSKWHE----QP-LINPLTNRKIKKNGPTYKELERECGP\", \"description\": \"VF378_IIV6/4-38\", \"label\": \"VF378_IIV6/4-38\", \"uid\": \"wbGpwgUwcP\", \"type\": \"leaf\", \"parent\": \"14\", \"length\": 0.31530205, \"distance\": 2.52602332}, {\"id\": \"O41158_PBCV1/63-96\", \"sequence\": \"LCSKWKA----NP-LVNPATGRKIKKDGPVYEKIQKKCS-\", \"description\": \"O41158_PBCV1/63-96\", \"label\": \"O41158_PBCV1/63-96\", \"uid\": \"WwFusg9dYB\", \"type\": \"leaf\", \"parent\": \"14\", \"length\": 0.46076842, \"distance\": 2.6714896899999996}, {\"id\": \"019R_FRG3G/5-39\", \"sequence\": \"YCDEFER----NP-TRNPRTGRTIKRGGPVFRALERECSD\", \"description\": \"019R_FRG3G/5-39\", \"label\": \"019R_FRG3G/5-39\", \"uid\": \"hhMUavZX22\", \"type\": \"leaf\", \"parent\": \"7\", \"length\": 0.06723315, \"distance\": 2.08029829}, {\"id\": \"019R_FRG3G/139-172\", \"sequence\": \"-CPEFAR----DP-TRNPRTGRTIKRGGPTYRALEAECAD\", \"description\": \"019R_FRG3G/139-172\", \"label\": \"019R_FRG3G/139-172\", \"uid\": \"EX58fSEhxv\", \"type\": \"leaf\", \"parent\": \"8\", \"length\": 0.05690376, \"distance\": 2.19811709}, {\"id\": \"VF232_IIV6/64-98\", \"sequence\": \"ECEQWLA----NK-GINPRTGKAIKIGGPTYKKLEMECKE\", \"description\": \"VF232_IIV6/64-98\", \"label\": \"VF232_IIV6/64-98\", \"uid\": \"F6LnRJdIh3\", \"type\": \"leaf\", \"parent\": \"11\", \"length\": 0.77338949, \"distance\": 2.6849990999999997}, {\"id\": \"Q0E553_SFAVA/60-94\", \"sequence\": \"VCKKFLA----NK-TVSPYSGRPIKPGKKLYNDLEKHCSG\", \"description\": \"Q0E553_SFAVA/60-94\", \"label\": \"Q0E553_SFAVA/60-94\", \"uid\": \"ynkTQz6BFQ\", \"type\": \"leaf\", \"parent\": \"4\", \"length\": 0.95706148, \"distance\": 2.08326164}, {\"id\": \"Q8QUQ5_ISKNN/164-198\", \"sequence\": \"QCRAFEE----NP-DVNPNTGRRISPTGPIASSMRRRCMN\", \"description\": \"Q8QUQ5_ISKNN/164-198\", \"label\": \"Q8QUQ5_ISKNN/164-198\", \"uid\": \"kVqZB5Ph11\", \"type\": \"leaf\", \"parent\": \"15\", \"length\": 0.63907222, \"distance\": 2.32877931}, {\"id\": \"Q8QUQ5_ISKNN/7-42\", \"sequence\": \"KCNQLRN----NRYTVNPVSNRAIAPRGDTANTLRRICEQ\", \"description\": \"Q8QUQ5_ISKNN/7-42\", \"label\": \"Q8QUQ5_ISKNN/7-42\", \"uid\": \"4ornVtWVJy\", \"type\": \"leaf\", \"parent\": \"15\", \"length\": 0.96743219, \"distance\": 2.65713928}, {\"id\": \"Q0E553_SFAVA/14-48\", \"sequence\": \"QCETFKR----NKQAVSPLTNCPIDKFGRTAARFRKECD-\", \"description\": \"Q0E553_SFAVA/14-48\", \"label\": \"Q0E553_SFAVA/14-48\", \"uid\": \"7pyH5HDX6V\", \"type\": \"leaf\", \"parent\": \"10\", \"length\": 1.58834786, \"distance\": 3.2944440000000004}, {\"id\": \"0\", \"sequence\": NaN, \"description\": NaN, \"label\": \"0\", \"uid\": \"jukbJa2hQr\", \"type\": \"root\", \"parent\": null, \"length\": 0.0, \"distance\": 0.0}, {\"id\": \"1\", \"sequence\": NaN, \"description\": NaN, \"label\": \"1\", \"uid\": \"BgT6xB4kgd\", \"type\": \"node\", \"parent\": \"0\", \"length\": 0.48939921, \"distance\": 0.48939921}, {\"id\": \"2\", \"sequence\": NaN, \"description\": NaN, \"label\": \"2\", \"uid\": \"mtBvJAtQeA\", \"type\": \"node\", \"parent\": \"1\", \"length\": 0.15868612, \"distance\": 0.64808533}, {\"id\": \"3\", \"sequence\": NaN, \"description\": NaN, \"label\": \"3\", \"uid\": \"OCQ6rmR4CE\", \"type\": \"node\", \"parent\": \"2\", \"length\": 0.27168922, \"distance\": 0.91977455}, {\"id\": \"4\", \"sequence\": NaN, \"description\": NaN, \"label\": \"4\", \"uid\": \"54XDfbz5OL\", \"type\": \"node\", \"parent\": \"3\", \"length\": 0.20642561, \"distance\": 1.12620016}, {\"id\": \"5\", \"sequence\": NaN, \"description\": NaN, \"label\": \"5\", \"uid\": \"h7foxcZd2w\", \"type\": \"node\", \"parent\": \"4\", \"length\": 0.20054193, \"distance\": 1.32674209}, {\"id\": \"6\", \"sequence\": NaN, \"description\": NaN, \"label\": \"6\", \"uid\": \"VYm2SQXeto\", \"type\": \"node\", \"parent\": \"5\", \"length\": 0.37908212, \"distance\": 1.70582421}, {\"id\": \"7\", \"sequence\": NaN, \"description\": NaN, \"label\": \"7\", \"uid\": \"LosuDfWtYc\", \"type\": \"node\", \"parent\": \"6\", \"length\": 0.30724093, \"distance\": 2.01306514}, {\"id\": \"8\", \"sequence\": NaN, \"description\": NaN, \"label\": \"8\", \"uid\": \"CsTOqrYdgw\", \"type\": \"node\", \"parent\": \"7\", \"length\": 0.12814819, \"distance\": 2.1412133300000002}, {\"id\": \"9\", \"sequence\": NaN, \"description\": NaN, \"label\": \"9\", \"uid\": \"6GVdTSeBiD\", \"type\": \"node\", \"parent\": \"8\", \"length\": 0.61968795, \"distance\": 2.7609012799999997}, {\"id\": \"10\", \"sequence\": NaN, \"description\": NaN, \"label\": \"10\", \"uid\": \"CERC8vL9zF\", \"type\": \"node\", \"parent\": \"6\", \"length\": 0.00027193, \"distance\": 1.70609614}, {\"id\": \"11\", \"sequence\": NaN, \"description\": NaN, \"label\": \"11\", \"uid\": \"2xXFpOYKMa\", \"type\": \"node\", \"parent\": \"10\", \"length\": 0.20551347, \"distance\": 1.91160961}, {\"id\": \"12\", \"sequence\": NaN, \"description\": NaN, \"label\": \"12\", \"uid\": \"A3GP2VmIMi\", \"type\": \"node\", \"parent\": \"11\", \"length\": 0.09388521, \"distance\": 2.00549482}, {\"id\": \"13\", \"sequence\": NaN, \"description\": NaN, \"label\": \"13\", \"uid\": \"U5hjxEnOHA\", \"type\": \"node\", \"parent\": \"12\", \"length\": 0.37367018, \"distance\": 2.379165}, {\"id\": \"14\", \"sequence\": NaN, \"description\": NaN, \"label\": \"14\", \"uid\": \"zoWwREKNPj\", \"type\": \"node\", \"parent\": \"12\", \"length\": 0.20522645, \"distance\": 2.21072127}, {\"id\": \"15\", \"sequence\": NaN, \"description\": NaN, \"label\": \"15\", \"uid\": \"e3GrssS39Y\", \"type\": \"node\", \"parent\": \"5\", \"length\": 0.362965, \"distance\": 1.68970709}], \"transform\": [{\"type\": \"stratify\", \"parentKey\": \"parent\", \"key\": \"id\"}, {\"type\": \"tree\", \"method\": \"cluster\", \"size\": [216, 300], \"as\": [\"y0\", \"x0\", \"depth0\", \"children0\"]}, {\"type\": \"tree\", \"method\": \"cluster\", \"size\": [216, 300], \"as\": [\"y\", \"x\", \"depth\", \"children\"]}, {\"type\": \"formula\", \"expr\": \"0.8 * datum.distance * 80\", \"as\": \"x\"}]}, {\"name\": \"links\", \"source\": \"tree\", \"transform\": [{\"type\": \"treelinks\", \"key\": \"id\"}, {\"type\": \"linkpath\", \"orient\": \"horizontal\", \"shape\": \"orthogonal\"}]}, {\"name\": \"nodes\", \"source\": \"tree\", \"transform\": [{\"type\": \"filter\", \"expr\": \"datum.type == \\\"node\\\"\"}]}, {\"name\": \"leaves\", \"source\": \"tree\", \"transform\": [{\"type\": \"filter\", \"expr\": \"datum.type == \\\"leaf\\\"\"}]}], \"marks\": [{\"type\": \"path\", \"from\": {\"data\": \"links\"}, \"encode\": {\"update\": {\"path\": {\"field\": \"path\"}, \"stroke\": {\"value\": \"#ccc\"}, \"strokeWidth\": {\"value\": 2}}}}, {\"type\": \"symbol\", \"from\": {\"data\": \"leaves\"}, \"encode\": {\"enter\": {\"fill\": {\"value\": \"#000\"}, \"stroke\": {\"value\": \"#000\"}}, \"update\": {\"x\": {\"field\": \"x\"}, \"y\": {\"field\": \"y\"}, \"size\": {\"value\": 0}, \"strokeWidth\": {\"value\": 1}}}}, {\"type\": \"symbol\", \"from\": {\"data\": \"nodes\"}, \"encode\": {\"enter\": {\"stroke\": {\"value\": \"#000\"}}, \"update\": {\"fill\": {\"value\": \"#000\"}, \"x\": {\"field\": \"x\"}, \"y\": {\"field\": \"y\"}, \"size\": {\"value\": 50}, \"strokeWidth\": {\"value\": 1}}}}, {\"type\": \"text\", \"from\": {\"data\": \"leaves\"}, \"encode\": {\"enter\": {\"fill\": {\"value\": \"#000\"}, \"text\": {\"field\": \"id\"}}, \"update\": {\"fontSize\": {\"value\": 10}, \"x\": {\"field\": \"x\"}, \"y\": {\"field\": \"y\"}, \"dx\": {\"value\": 4}, \"dy\": {\"value\": 3}}}}, {\"type\": \"text\", \"from\": {\"data\": \"nodes\"}, \"encode\": {\"enter\": {\"fill\": {\"value\": \"#000\"}, \"text\": {\"field\": \"id\"}}, \"update\": {\"fontSize\": {\"value\": 10}, \"x\": {\"field\": \"x\"}, \"y\": {\"field\": \"y\"}, \"dx\": {\"value\": 4}, \"dy\": {\"value\": 3}}}}], \"signals\": []};\n",
       "const opt = {};\n",
       "const type = \"vega\";\n",
       "const id = \"aa0bd2fd-890f-42b5-9070-fa6402b2f72b\";\n",
       "\n",
       "const output_area = this;\n",
       "\n",
       "require([\"nbextensions/jupyter-vega/index\"], function(vega) {\n",
       "  const target = document.createElement(\"div\");\n",
       "  target.id = id;\n",
       "  target.className = \"vega-embed\";\n",
       "\n",
       "  const style = document.createElement(\"style\");\n",
       "  style.textContent = [\n",
       "    \".vega-embed .error p {\",\n",
       "    \"  color: firebrick;\",\n",
       "    \"  font-size: 14px;\",\n",
       "    \"}\",\n",
       "  ].join(\"\\\\n\");\n",
       "\n",
       "  // element is a jQuery wrapped DOM element inside the output area\n",
       "  // see http://ipython.readthedocs.io/en/stable/api/generated/\\\n",
       "  // IPython.display.html#IPython.display.Javascript.__init__\n",
       "  element[0].appendChild(target);\n",
       "  element[0].appendChild(style);\n",
       "\n",
       "  vega.render(\"#\" + id, spec, type, opt, output_area);\n",
       "}, function (err) {\n",
       "  if (err.requireType !== \"scripterror\") {\n",
       "    throw(err);\n",
       "  }\n",
       "});\n"
      ],
      "text/plain": [
       "<phylovega.app.TreeChart at 0x11373d950>"
      ]
     },
     "execution_count": 7,
     "metadata": {
      "jupyter-vega": "#aa0bd2fd-890f-42b5-9070-fa6402b2f72b"
     },
     "output_type": "execute_result"
    },
    {
     "data": {
      "image/png": "[encoded data removed]"
     },
     "metadata": {
      "jupyter-vega": "#aa0bd2fd-890f-42b5-9070-fa6402b2f72b"
     },
     "output_type": "display_data"
    }
   ],
   "source": [
    "df.phylo.display()"
   ]
  },
  {
   "cell_type": "markdown",
   "metadata": {},
   "source": [
    "In this approach, we flavor Pandas by containing all our custom functions in an accessor. "
   ]
  },
  {
   "cell_type": "markdown",
   "metadata": {},
   "source": [
    "## How do we write an accessor?"
   ]
  },
  {
   "cell_type": "markdown",
   "metadata": {},
   "source": [
    "Checkout the `my_flavor_accessor.py` module."
   ]
  },
  {
   "cell_type": "code",
   "execution_count": 20,
   "metadata": {},
   "outputs": [
    {
     "name": "stdout",
     "output_type": "stream",
     "text": [
      "Hello, everyone!\n",
      "\n",
      "Check out my flavor of Pandas\n"
     ]
    },
    {
     "data": {
      "text/html": [
       "<div>\n",
       "<style scoped>\n",
       "    .dataframe tbody tr th:only-of-type {\n",
       "        vertical-align: middle;\n",
       "    }\n",
       "\n",
       "    .dataframe tbody tr th {\n",
       "        vertical-align: top;\n",
       "    }\n",
       "\n",
       "    .dataframe thead th {\n",
       "        text-align: right;\n",
       "    }\n",
       "</style>\n",
       "<table border=\"1\" class=\"dataframe\">\n",
       "  <thead>\n",
       "    <tr style=\"text-align: right;\">\n",
       "      <th></th>\n",
       "      <th>x</th>\n",
       "      <th>y</th>\n",
       "    </tr>\n",
       "  </thead>\n",
       "  <tbody>\n",
       "    <tr>\n",
       "      <td>0</td>\n",
       "      <td>0</td>\n",
       "      <td>1</td>\n",
       "    </tr>\n",
       "    <tr>\n",
       "      <td>1</td>\n",
       "      <td>0</td>\n",
       "      <td>1</td>\n",
       "    </tr>\n",
       "  </tbody>\n",
       "</table>\n",
       "</div>"
      ],
      "text/plain": [
       "   x  y\n",
       "0  0  1\n",
       "1  0  1"
      ]
     },
     "execution_count": 20,
     "metadata": {},
     "output_type": "execute_result"
    }
   ],
   "source": [
    "import my_flavor_accessor\n",
    "\n",
    "df = pd.DataFrame({'x': [0, 0], 'y': [1, 1]})\n",
    "\n",
    "df.zach.func1()\n",
    "df.zach.func2()"
   ]
  },
  {
   "cell_type": "markdown",
   "metadata": {},
   "source": [
    "## Conclusion (Part 2): What does this mean for you?"
   ]
  },
  {
   "cell_type": "markdown",
   "metadata": {},
   "source": [
    "* We (the scientific community) can write domain-specific DataFrames.\n",
    "\n",
    "        Follow our example in the evolutionary biology community.\n",
    "\n",
    "* DataFrames encourage \"data scientists\" to define schemas or grammars (standardized column names) for their domain.\n",
    "\n",
    "        Pandas Flavor makes it easy to build a domain-specific API for those schemas."
   ]
  },
  {
   "cell_type": "markdown",
   "metadata": {},
   "source": [
    "## Other Pandas flavors in the wild..."
   ]
  },
  {
   "cell_type": "markdown",
   "metadata": {},
   "source": [
    "* pandas `.plot`\n",
    "* pdvega\n",
    "* pyjanitor\n",
    "* geopandas\n",
    "* python-ctd\n",
    "* pingouin"
   ]
  },
  {
   "cell_type": "code",
   "execution_count": 19,
   "metadata": {},
   "outputs": [
    {
     "data": {
      "text/plain": [
       "<matplotlib.axes._subplots.AxesSubplot at 0x113c40290>"
      ]
     },
     "execution_count": 19,
     "metadata": {},
     "output_type": "execute_result"
    },
    {
     "data": {
      "image/png": "[encoded data removed]",
      "text/plain": [
       "<Figure size 432x288 with 1 Axes>"
      ]
     },
     "metadata": {
      "needs_background": "light"
     },
     "output_type": "display_data"
    }
   ],
   "source": [
    "%matplotlib inline\n",
    "\n",
    "df.plot.bar()"
   ]
  },
  {
   "cell_type": "markdown",
   "metadata": {},
   "source": [
    "## Acknowledgements\n",
    "\n",
    "* Eric Ma (creator of pyjanitor)\n",
    "* BioPython community (for PhyloPandas inspiration)\n",
    "* Jeet Sukumaran (creator of DendroPy)\n",
    "* Jake Vanderplas (original review of pandas-flavor)\n",
    "* Mike Harms (graduate PI and contributor to phylopandas)\n",
    "\n",
    "Thanks!"
   ]
  }
 ],
 "metadata": {
  "kernelspec": {
   "display_name": "Python 3",
   "language": "python",
   "name": "python3"
  },
  "language_info": {
   "codemirror_mode": {
    "name": "ipython",
    "version": 3
   },
   "file_extension": ".py",
   "mimetype": "text/x-python",
   "name": "python",
   "nbconvert_exporter": "python",
   "pygments_lexer": "ipython3",
   "version": "3.7.4"
  },
  "rise": {
   "enable_chalkboard": true
  }
 },
 "nbformat": 4,
 "nbformat_minor": 4
}
